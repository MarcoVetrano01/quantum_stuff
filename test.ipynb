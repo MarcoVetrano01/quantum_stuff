{
 "cells": [
  {
   "cell_type": "code",
   "execution_count": 1,
   "id": "2d4a1f40",
   "metadata": {},
   "outputs": [],
   "source": [
    "import numpy as np\n",
    "import qutip as qt\n",
    "import QuantumStuff as qs\n",
    "import scipy.sparse as sp\n",
    "from scipy.sparse.linalg import expm_multiply\n",
    "from scipy.sparse import csc_matrix, csc_array"
   ]
  },
  {
   "cell_type": "code",
   "execution_count": 2,
   "id": "2da81e6e",
   "metadata": {},
   "outputs": [],
   "source": [
    "from scipy.special import comb\n",
    "import sklearn.linear_model as LM"
   ]
  },
  {
   "cell_type": "code",
   "execution_count": 3,
   "id": "91685778",
   "metadata": {},
   "outputs": [],
   "source": [
    "def CD_training(sk: np.ndarray, y_target: np.ndarray, H1: np.ndarray | sp.csc_matrix | sp.csc_array, H0: np.ndarray | sp.csc_matrix | sp.csc_array, c_ops: list, δt: float,  wo: int = 1000, train_size: int = 1000, state = None):\n",
    "    \n",
    "    #Evolution\n",
    "    Nq = int(np.log2(H0.shape[0]))\n",
    "    if state is None:\n",
    "        state = qs.zero(dm = True, N = Nq)\n",
    "    statet = qs.QRC.CD_evolution(sk, H1, H0, c_ops, δt, wo + train_size, state)\n",
    "    tqo = [np.kron(qs.sigmax(),qs.sigmax()), np.kron(qs.sigmay(),qs.sigmay()), np.kron(qs.sigmaz(),qs.sigmaz())]\n",
    "    #Measurements\n",
    "    if Nq != 1:\n",
    "        x_train = np.real(np.hstack((qs.measure(statet, [qs.sigmax(), qs.sigmay(), qs.sigmaz()]).reshape(wo+train_size, 3*Nq), qs.measure(statet, tqo).reshape(wo + train_size, int(len(tqo)*comb(Nq, 2))), np.ones((wo+train_size, 1)))))\n",
    "    else:\n",
    "        x_train = np.real(np.hstack(((qs.measure(statet).reshape(wo+train_size, 3*Nq), np.ones((wo+train_size, 1))))))\n",
    "\n",
    "    #Training\n",
    "    alpha = np.logspace(-9,3,1000)\n",
    "    ridge = LM.RidgeCV(alphas = alpha)\n",
    "    ## For forecasting problems y_target = sk[wo+1:wo+train_size+1]\n",
    "    ridge.fit((x_train[wo:]), y_target)\n",
    "\n",
    "    return ridge, x_train, statet[-1]"
   ]
  },
  {
   "cell_type": "code",
   "execution_count": 42,
   "id": "46ff7c5d",
   "metadata": {},
   "outputs": [],
   "source": [
    "from scipy.sparse import csc_array\n",
    "Nq = 5\n",
    "J = qs.random_coupling(1, Nq)\n",
    "X = qs.local_operators(qs.sigmax(), Nq)\n",
    "Z = qs.local_operators(qs.sigmaz(), Nq)\n",
    "H0 = csc_matrix(qs.interaction(X, J))\n",
    "h = 0.1\n",
    "g = 0.1\n",
    "H1 = csc_matrix(np.sum(h * Z, 0))\n",
    "H = H0 + H1\n",
    "H2 = csc_matrix(np.sum(h * X, 0))\n",
    "state = qs.zero(dm = True, N = Nq)\n",
    "sk = np.load(\"../Input_MG.npy\")\n",
    "cops = qs.local_operators(csc_array(np.sqrt(g)*qs.sigmam()), Nq)"
   ]
  },
  {
   "cell_type": "code",
   "execution_count": 43,
   "id": "98c913da",
   "metadata": {},
   "outputs": [
    {
     "name": "stderr",
     "output_type": "stream",
     "text": [
      "  0%|          | 0/2000 [00:00<?, ?it/s]"
     ]
    },
    {
     "name": "stderr",
     "output_type": "stream",
     "text": [
      "100%|██████████| 2000/2000 [00:18<00:00, 106.04it/s]\n"
     ]
    }
   ],
   "source": [
    "ridge, x_train, state_out = CD_training(sk, sk[1000:2000], H2, H, cops, 0.01)"
   ]
  },
  {
   "cell_type": "code",
   "execution_count": 44,
   "id": "d2af8a67",
   "metadata": {},
   "outputs": [],
   "source": [
    "H0 = qt.Qobj(H0.toarray(), dims=[[2]*Nq, [2]*Nq])\n",
    "H1 = qt.Qobj(H1.toarray(), dims=[[2]*Nq, [2]*Nq])\n",
    "H = H0 + H1\n",
    "H2 = qt.Qobj(H2.toarray(), dims=[[2]*Nq, [2]*Nq])\n",
    "cops = [qt.Qobj(cop.toarray(), dims=[[2]*Nq, [2]*Nq]) for cop in cops]"
   ]
  },
  {
   "cell_type": "code",
   "execution_count": 45,
   "id": "63a5025a",
   "metadata": {},
   "outputs": [
    {
     "name": "stdout",
     "output_type": "stream",
     "text": [
      "Number of local operators: 15\n",
      "Number of two-qubit operators: 30\n",
      "Total number of operators: 45\n"
     ]
    }
   ],
   "source": [
    "from qutip import tensor, qeye, sigmax, sigmay, sigmaz\n",
    "\n",
    "# Number of qubits\n",
    "n_qubits = 5\n",
    "\n",
    "# Define Pauli matrices\n",
    "paulis = {'x': sigmax(), 'y': sigmay(), 'z': sigmaz()}\n",
    "\n",
    "# Identity operator for single qubit\n",
    "id_op = qeye(2)\n",
    "\n",
    "# List to hold local and two-qubit operators\n",
    "local_ops = []\n",
    "two_qubit_ops = []\n",
    "\n",
    "# Create local single-qubit operators\n",
    "for i in range(n_qubits):\n",
    "    for label, op in paulis.items():\n",
    "        op_list = [id_op] * n_qubits\n",
    "        op_list[i] = op\n",
    "        local_ops.append(tensor(op_list))\n",
    "\n",
    "# Create two-qubit operators of the type xx, yy, zz\n",
    "for i in range(n_qubits):\n",
    "    for j in range(i+1, n_qubits):\n",
    "        for label, op in paulis.items():\n",
    "            op_list = [id_op] * n_qubits\n",
    "            op_list[i] = op\n",
    "            op_list[j] = op\n",
    "            two_qubit_ops.append(tensor(op_list))\n",
    "\n",
    "# Optional: combine all operators in a single list if needed\n",
    "all_ops = local_ops + two_qubit_ops\n",
    "\n",
    "# Example: print number of operators\n",
    "print(f\"Number of local operators: {len(local_ops)}\")\n",
    "print(f\"Number of two-qubit operators: {len(two_qubit_ops)}\")\n",
    "print(f\"Total number of operators: {len(all_ops)}\")"
   ]
  },
  {
   "cell_type": "code",
   "execution_count": 49,
   "id": "04f606b7",
   "metadata": {},
   "outputs": [
    {
     "name": "stderr",
     "output_type": "stream",
     "text": [
      "  0%|          | 0/31 [00:00<?, ?it/s]"
     ]
    },
    {
     "name": "stderr",
     "output_type": "stream",
     "text": [
      "100%|██████████| 31/31 [00:16<00:00,  1.87it/s]"
     ]
    },
    {
     "name": "stdout",
     "output_type": "stream",
     "text": [
      "Expectation values at final timestep:\n",
      "[0.002601773950436429, -0.007451682552046951, 0.027394146099626128, 0.00426459851886349, -0.008860944689012655, 0.0191364118008868, 0.00226503344063333, 0.002599037566821895, -0.033524738559942, 0.00443835876190353, -0.01373116521837299, 0.04937553439998294, 0.002710295106700398, 0.002007953682181417, -0.03106132621438881, -0.028385905336607686, 0.04673569482623192, -0.07337940764165005, 0.0593303794290927, -0.13681725219754326, -0.28016444423242304, -0.007854829295551369, 0.40097312996710227, 0.28615396543550164, 0.059267239789846854, -0.12317038512983676, -0.04504926421806473, -0.06624087894816832, 0.03312061462362132, -0.039229164373808544, -0.05309759090935532, 0.0996186772260613, -0.03101515655886506, 0.007408798103940045, -0.42715637254784694, -0.18216742949256187, -0.03146666841175203, -0.12771164753298161, -0.16943975477538634, -0.03352729097668656, -0.0726222601305358, 0.04145686868327357, -0.0620512733448135, -0.030990726759166837, -0.013272953624748882]\n"
     ]
    },
    {
     "name": "stderr",
     "output_type": "stream",
     "text": [
      "\n"
     ]
    }
   ],
   "source": [
    "from qutip import tensor, qeye, sigmax, sigmay, sigmaz, basis, expect, mesolve, sigmam\n",
    "import numpy as np\n",
    "from tqdm import tqdm\n",
    "\n",
    "# Number of qubits\n",
    "n_qubits = 5\n",
    "\n",
    "# Define Pauli matrices\n",
    "paulis = {'x': sigmax(), 'y': sigmay(), 'z': sigmaz()}\n",
    "\n",
    "# Identity operator for single qubit\n",
    "id_op = qeye(2)\n",
    "\n",
    "# List to hold local and two-qubit operators\n",
    "local_ops = []\n",
    "two_qubit_ops = []\n",
    "\n",
    "# Create local single-qubit operators\n",
    "for i in range(n_qubits):\n",
    "    for label, op in paulis.items():\n",
    "        op_list = [id_op] * n_qubits\n",
    "        op_list[i] = op\n",
    "        local_ops.append(tensor(op_list))\n",
    "\n",
    "# Create two-qubit operators of the type xx, yy, zz\n",
    "for i in range(n_qubits):\n",
    "    for j in range(i+1, n_qubits):\n",
    "        for label, op in paulis.items():\n",
    "            op_list = [id_op] * n_qubits\n",
    "            op_list[i] = op\n",
    "            op_list[j] = op\n",
    "            two_qubit_ops.append(tensor(op_list))\n",
    "\n",
    "# Combine all operators\n",
    "all_ops = local_ops + two_qubit_ops\n",
    "\n",
    "# Initial state (e.g., all qubits in ground state |0>)\n",
    "\n",
    "# Time steps and duration\n",
    "timesteps = 31\n",
    "dt = 0.01\n",
    "times = np.linspace(0, dt, 2)  # short evolution interval\n",
    "\n",
    "# Function to generate a time-dependent Hamiltonian (e.g., random local field\n",
    "\n",
    "# Collapse operators for decoherence (e.g., amplitude damping on each qubit)\n",
    "gamma = 0.1  # decoherence rate\n",
    "c_ops = []\n",
    "for i in range(n_qubits):\n",
    "    lowering_op = tensor([sigmam() if j == i else id_op for j in range(n_qubits)])  # Replace with lowering if needed\n",
    "    c_ops.append(np.sqrt(gamma) * lowering_op)\n",
    "\n",
    "# List to store expectation values\n",
    "expectation_values = []\n",
    "\n",
    "# Current state\n",
    "state = qt.Qobj(state, dims = [[2]*n_qubits, [2]*n_qubits])  # Convert to Qobj if needed\n",
    "\n",
    "# Time evolution using the master equation with changing Hamiltonian\n",
    "for step in tqdm(range(timesteps)):\n",
    "    Htot = H + (1+sk[step])*H2\n",
    "    result = mesolve(Htot, state, times, c_ops)\n",
    "    state = result.states[-1]  # Update state\n",
    "    exp_vals = [expect(op, state) for op in all_ops]\n",
    "    expectation_values.append(exp_vals)\n",
    "\n",
    "# Example: print expectation values at the last step\n",
    "print(\"Expectation values at final timestep:\")\n",
    "print(expectation_values[-1])\n"
   ]
  },
  {
   "cell_type": "code",
   "execution_count": 132,
   "id": "81a7422f",
   "metadata": {},
   "outputs": [
    {
     "name": "stdout",
     "output_type": "stream",
     "text": [
      "[[0.1+0.j 0. +0.j 0. +0.j 0. +0.j]\n",
      " [0. +0.j 0.1+0.j 0. +0.j 0. +0.j]\n",
      " [0. +0.j 0. +0.j 0. +0.j 0. +0.j]\n",
      " [0. +0.j 0. +0.j 0. +0.j 0. +0.j]]\n",
      "[[0.1+0.j 0. +0.j 0. +0.j 0. +0.j]\n",
      " [0. +0.j 0.1+0.j 0. +0.j 0. +0.j]\n",
      " [0. +0.j 0. +0.j 0. +0.j 0. +0.j]\n",
      " [0. +0.j 0. +0.j 0. +0.j 0. +0.j]]\n"
     ]
    }
   ],
   "source": [
    "print(qs.dag(cops[0].toarray())@cops[0].toarray())\n",
    "print((qs.dag(cops[0]).dot(cops[0])).toarray())"
   ]
  },
  {
   "cell_type": "code",
   "execution_count": null,
   "id": "a5eb61d4",
   "metadata": {},
   "outputs": [],
   "source": [
    "from scipy.sparse import csc_array, kron\n",
    "from scipy.sparse.linalg import expm\n",
    "def Super_D(c_ops = []):\n",
    "    \"\"\"\n",
    "    Super operator for Lindblad equation\n",
    "    :c_ops: list of collapse operators multiplied by their decay rates\n",
    "    :return: super dissipator\n",
    "    \"\"\"\n",
    "    if len(c_ops) == 0:\n",
    "        return None\n",
    "    N = np.shape(c_ops[0])[1]\n",
    "    is_sparse = isinstance(c_ops[0], (csc_matrix, csc_array))\n",
    "    if is_sparse:\n",
    "        SI = csc_array(np.eye(N))\n",
    "        N2 = N*N\n",
    "        superd = csc_array((N2, N2), dtype=complex)\n",
    "        for c in c_ops:\n",
    "            LL = qs.dag(c).dot(c)\n",
    "            superd += (kron(c.conj(), c) - 0.5 * (kron(SI, LL) + kron(LL.T, SI)))\n",
    "            superd = csc_array(superd)\n",
    "    else:\n",
    "        SI = np.eye(N)\n",
    "        superd = 0\n",
    "        \n",
    "        for c in c_ops:\n",
    "            LL = qs.dag(c)@c\n",
    "            superd += (np.kron(c.conj(), c)-0.5*(np.kron(SI,LL) + np.kron(LL, SI)))\n",
    "    return superd\n",
    "\n",
    "def Super_H(H: np.ndarray | csc_matrix | csc_array):\n",
    "    \"\"\"\n",
    "    Super operator for Hamiltonian\n",
    "    :H: Hamiltonian\n",
    "    :return: super hamiltonian\n",
    "    \"\"\"\n",
    "    is_sparse = isinstance(H, (csc_matrix, csc_array))\n",
    "    N = np.shape(H)[0]\n",
    "    if is_sparse:\n",
    "        SI = csc_matrix(np.eye(N))\n",
    "        superh = 1j * (kron(SI, H.T) - kron(H, SI))\n",
    "        superh = csc_matrix(superh)\n",
    "    else:\n",
    "        H = np.array(H, dtype = complex)\n",
    "        SI = np.eye(N)\n",
    "        superh = 1j * (np.kron(SI, H.T) - np.kron(H, SI))\n",
    "    return superh\n",
    "\n",
    "def Lindblad_Propagator(SH: np.ndarray | csc_matrix, SD: np.ndarray | csc_matrix | None, dt: float, ρ: np.ndarray):\n",
    "    \"\"\"\n",
    "    Lindblad propagator for Lindblad equation\n",
    "    Args:\n",
    "        SH (np.ndarray | csc_matrix): Super Hamiltonian operator.\n",
    "        SD (np.ndarray | csc_matrix | None): Super dissipator operator, if None it is set to zero.\n",
    "        dt (float): Time step for the evolution.\n",
    "        ρ (np.ndarray): Initial density matrix.\n",
    "    Returns:\n",
    "        np.ndarray: Time-evolved density matrix.\n",
    "    \"\"\"\n",
    "\n",
    "    if SD == None:\n",
    "        SD = csc_array(np.zeros_like(SH.toarray()))\n",
    "    L = SH + SD\n",
    "    is_sparse = type(L) == csc_matrix or csc_array\n",
    "    if ρ.ndim != 1:\n",
    "        ρ = ρ.flatten()\n",
    "    if is_sparse:\n",
    "        return expm_multiply(L, ρ, start = 0 , stop = dt, num = 2)[-1]\n",
    "    else:\n",
    "        return expm(L * dt) @ ρ"
   ]
  },
  {
   "cell_type": "code",
   "execution_count": 197,
   "id": "c6ca9e74",
   "metadata": {},
   "outputs": [],
   "source": [
    "state0 = qs.random_qubit(2, pure = True, dm = True)\n",
    "J = qs.random_coupling(1, 2)\n",
    "Z = qs.local_operators(qs.sigmaz(), 2)\n",
    "X = qs.local_operators(qs.sigmax(), 2)\n",
    "H0 = csc_array(qs.interaction(qs.local_operators(qs.sigmax(),2), J)) + csc_array(np.sum(h*Z, 0 ))\n",
    "H1 = csc_array(np.sum(h * X, 0))\n",
    "cops = qs.local_operators(csc_array(np.sqrt(g)*qs.sigmam()), 2)"
   ]
  },
  {
   "cell_type": "code",
   "execution_count": 198,
   "id": "e736253a",
   "metadata": {},
   "outputs": [],
   "source": [
    "statet = np.zeros((100, 4, 4), dtype = complex)\n",
    "state = state0\n",
    "statet[0] = state0\n",
    "for i in range(1,100):\n",
    "    statet[i] = Lindblad_Propagator(Super_H(H0 + H1), Super_D(cops), 0.01, state).reshape(4,4)\n",
    "    state = statet[i]"
   ]
  },
  {
   "cell_type": "code",
   "execution_count": 199,
   "id": "e967c7a5",
   "metadata": {},
   "outputs": [],
   "source": [
    "misure = qs.measure(statet, [qs.sigmax(), -qs.sigmay(), qs.sigmaz()])"
   ]
  },
  {
   "cell_type": "code",
   "execution_count": 200,
   "id": "a05c24e3",
   "metadata": {},
   "outputs": [
    {
     "data": {
      "text/plain": [
       "(100, 3, 2)"
      ]
     },
     "execution_count": 200,
     "metadata": {},
     "output_type": "execute_result"
    }
   ],
   "source": [
    "import matplotlib.pyplot as plt\n",
    "misure.shape"
   ]
  },
  {
   "cell_type": "code",
   "execution_count": 201,
   "id": "b9896ef0",
   "metadata": {},
   "outputs": [],
   "source": [
    "result = qt.mesolve(qt.Qobj(H0.toarray(), dims=[[2]*2, [2]*2]) + qt.Qobj(H1.toarray(), dims=[[2]*2, [2]*2]), qt.Qobj(state0, dims = [[2]*2, [2]*2]), np.linspace(0, 1, 100), c_ops = [qt.Qobj(cop.toarray(), dims = [[2]*2, [2]*2]) for cop in cops], e_ops = [qt.tensor(qt.sigmax(), qt.identity(2)), qt.tensor(qt.sigmay(), qt.identity(2)), qt.tensor(qt.sigmaz(), qt.identity(2)), qt.tensor(qt.identity(2), qt.sigmax()), qt.tensor(qt.identity(2), qt.sigmay()), qt.tensor(qt.identity(2), qt.sigmaz())])"
   ]
  },
  {
   "cell_type": "code",
   "execution_count": 202,
   "id": "3ba9db1e",
   "metadata": {},
   "outputs": [
    {
     "name": "stdout",
     "output_type": "stream",
     "text": [
      "Quantum object: dims=[[2], [2]], shape=(2, 2), type='oper', dtype=CSR, isherm=True\n",
      "Qobj data =\n",
      "[[ 1.  0.]\n",
      " [ 0. -1.]]\n",
      "[[ 1.+0.j  0.+0.j]\n",
      " [ 0.+0.j -1.+0.j]]\n"
     ]
    }
   ],
   "source": [
    "print(qt.sigmaz())\n",
    "print(qs.sigmaz())"
   ]
  },
  {
   "cell_type": "code",
   "execution_count": 205,
   "id": "477a57b1",
   "metadata": {},
   "outputs": [
    {
     "data": {
      "text/plain": [
       "[<matplotlib.lines.Line2D at 0x216013ef920>]"
      ]
     },
     "execution_count": 205,
     "metadata": {},
     "output_type": "execute_result"
    },
    {
     "data": {
      "image/png": "[encoded data removed]",
      "text/plain": [
       "<Figure size 640x480 with 1 Axes>"
      ]
     },
     "metadata": {},
     "output_type": "display_data"
    }
   ],
   "source": [
    "plt.plot(result.expect[0], label = \"X1\")\n",
    "plt.plot(misure[0:,0,0])"
   ]
  },
  {
   "cell_type": "code",
   "execution_count": 9,
   "id": "49a52f00",
   "metadata": {},
   "outputs": [
    {
     "data": {
      "text/plain": [
       "array([[[ 0.+0.j,  0.+0.j,  0.+0.j, ...,  0.+0.j,  0.+0.j,  0.+0.j],\n",
       "        [ 0.+0.j,  0.+0.j,  0.+0.j, ...,  0.+0.j,  0.+0.j,  0.+0.j],\n",
       "        [ 0.+0.j,  0.+0.j,  0.+0.j, ...,  0.+0.j,  0.+0.j,  0.+0.j],\n",
       "        ...,\n",
       "        [ 0.+0.j,  0.+0.j,  0.+0.j, ...,  0.+0.j,  0.+0.j,  0.+0.j],\n",
       "        [ 0.+0.j,  0.+0.j,  0.+0.j, ...,  0.+0.j,  0.+0.j,  0.+0.j],\n",
       "        [ 0.+0.j,  0.+0.j,  0.+0.j, ...,  0.+0.j,  0.+0.j,  0.+0.j]],\n",
       "\n",
       "       [[ 0.+0.j,  0.+0.j,  0.+0.j, ...,  0.+0.j,  0.+0.j,  0.+0.j],\n",
       "        [ 0.+0.j,  0.+0.j,  0.+0.j, ...,  0.+0.j,  0.+0.j,  0.+0.j],\n",
       "        [ 0.+0.j,  0.+0.j,  0.+0.j, ...,  0.+0.j,  0.+0.j,  0.+0.j],\n",
       "        ...,\n",
       "        [ 0.+0.j,  0.+0.j,  0.+0.j, ...,  0.+0.j,  0.+0.j,  0.+0.j],\n",
       "        [ 0.+0.j,  0.+0.j,  0.+0.j, ...,  0.+0.j,  0.+0.j,  0.+0.j],\n",
       "        [ 0.+0.j,  0.+0.j,  0.+0.j, ...,  0.+0.j,  0.+0.j,  0.+0.j]],\n",
       "\n",
       "       [[ 0.+0.j,  0.+0.j,  1.+0.j, ...,  0.+0.j,  0.+0.j,  0.+0.j],\n",
       "        [ 0.+0.j,  0.+0.j,  0.+0.j, ...,  0.+0.j,  0.+0.j,  0.+0.j],\n",
       "        [ 1.+0.j,  0.+0.j,  0.+0.j, ...,  0.+0.j,  0.+0.j,  0.+0.j],\n",
       "        ...,\n",
       "        [ 0.+0.j,  0.+0.j,  0.+0.j, ...,  0.+0.j,  0.+0.j,  1.+0.j],\n",
       "        [ 0.+0.j,  0.+0.j,  0.+0.j, ...,  0.+0.j,  0.+0.j,  0.+0.j],\n",
       "        [ 0.+0.j,  0.+0.j,  0.+0.j, ...,  1.+0.j,  0.+0.j,  0.+0.j]],\n",
       "\n",
       "       ...,\n",
       "\n",
       "       [[ 1.+0.j,  0.+0.j,  0.+0.j, ...,  0.+0.j,  0.+0.j,  0.+0.j],\n",
       "        [ 0.+0.j,  1.+0.j,  0.+0.j, ...,  0.+0.j,  0.+0.j,  0.+0.j],\n",
       "        [ 0.+0.j,  0.+0.j,  1.+0.j, ...,  0.+0.j,  0.+0.j,  0.+0.j],\n",
       "        ...,\n",
       "        [ 0.+0.j,  0.+0.j,  0.+0.j, ..., -1.+0.j, -0.+0.j, -0.+0.j],\n",
       "        [ 0.+0.j,  0.+0.j,  0.+0.j, ..., -0.+0.j, -1.+0.j, -0.+0.j],\n",
       "        [ 0.+0.j,  0.+0.j,  0.+0.j, ..., -0.+0.j, -0.+0.j, -1.+0.j]],\n",
       "\n",
       "       [[ 1.+0.j,  0.+0.j,  0.+0.j, ...,  0.+0.j,  0.+0.j,  0.+0.j],\n",
       "        [ 0.+0.j,  1.+0.j,  0.+0.j, ...,  0.+0.j,  0.+0.j,  0.+0.j],\n",
       "        [ 0.+0.j,  0.+0.j, -1.+0.j, ...,  0.+0.j, -0.+0.j, -0.+0.j],\n",
       "        ...,\n",
       "        [ 0.+0.j,  0.+0.j,  0.+0.j, ...,  1.+0.j,  0.+0.j,  0.+0.j],\n",
       "        [ 0.+0.j,  0.+0.j, -0.+0.j, ...,  0.+0.j, -1.+0.j, -0.+0.j],\n",
       "        [ 0.+0.j,  0.+0.j, -0.+0.j, ...,  0.+0.j, -0.+0.j, -1.+0.j]],\n",
       "\n",
       "       [[ 1.+0.j,  0.+0.j,  0.+0.j, ...,  0.+0.j,  0.+0.j,  0.+0.j],\n",
       "        [ 0.+0.j, -1.+0.j,  0.+0.j, ..., -0.+0.j,  0.+0.j, -0.+0.j],\n",
       "        [ 0.+0.j,  0.+0.j,  1.+0.j, ...,  0.+0.j,  0.+0.j,  0.+0.j],\n",
       "        ...,\n",
       "        [ 0.+0.j, -0.+0.j,  0.+0.j, ..., -1.+0.j,  0.+0.j, -0.+0.j],\n",
       "        [ 0.+0.j,  0.+0.j,  0.+0.j, ...,  0.+0.j,  1.+0.j,  0.+0.j],\n",
       "        [ 0.+0.j, -0.+0.j,  0.+0.j, ..., -0.+0.j,  0.+0.j, -1.+0.j]]],\n",
       "      shape=(12, 16, 16))"
      ]
     },
     "execution_count": 9,
     "metadata": {},
     "output_type": "execute_result"
    }
   ],
   "source": [
    "np.array([qs.local_operators(qs.sigmax(), Nq), qs.local_operators(qs.sigmay(), Nq), qs.local_operators(qs.sigmaz(), Nq)]).reshape(12, 16,16)"
   ]
  },
  {
   "cell_type": "code",
   "execution_count": null,
   "id": "fb95008c",
   "metadata": {},
   "outputs": [
    {
     "ename": "AttributeError",
     "evalue": "module 'QuantumStuff' has no attribute 'local_operator'",
     "output_type": "error",
     "traceback": [
      "\u001b[1;31m---------------------------------------------------------------------------\u001b[0m",
      "\u001b[1;31mAttributeError\u001b[0m                            Traceback (most recent call last)",
      "Cell \u001b[1;32mIn[4], line 2\u001b[0m\n\u001b[0;32m      1\u001b[0m state \u001b[38;5;241m=\u001b[39m qs\u001b[38;5;241m.\u001b[39mzero(dm \u001b[38;5;241m=\u001b[39m \u001b[38;5;28;01mTrue\u001b[39;00m, N \u001b[38;5;241m=\u001b[39m \u001b[38;5;241m4\u001b[39m)\n\u001b[1;32m----> 2\u001b[0m H1 \u001b[38;5;241m=\u001b[39m \u001b[43mqs\u001b[49m\u001b[38;5;241;43m.\u001b[39;49m\u001b[43mlocal_operator\u001b[49m()\n\u001b[0;32m      3\u001b[0m H0 \u001b[38;5;241m=\u001b[39m qs\u001b[38;5;241m.\u001b[39msigmaz()\n\u001b[0;32m      4\u001b[0m cops \u001b[38;5;241m=\u001b[39m []\n",
      "\u001b[1;31mAttributeError\u001b[0m: module 'QuantumStuff' has no attribute 'local_operator'"
     ]
    }
   ],
   "source": [
    "state = qs.zero(dm = True, N = 4)\n",
    "H0 = qs.sigmaz()\n",
    "cops = []\n",
    "state_t = qs.QRC.CD_evolution(np.random.random((100)), H1, H0, 0.1, 100, state)"
   ]
  },
  {
   "cell_type": "code",
   "execution_count": null,
   "id": "c78306b8",
   "metadata": {},
   "outputs": [],
   "source": []
  },
  {
   "cell_type": "code",
   "execution_count": null,
   "id": "bc34f8cf",
   "metadata": {},
   "outputs": [
    {
     "data": {
      "text/plain": [
       "array([2.37654684])"
      ]
     },
     "execution_count": 667,
     "metadata": {},
     "output_type": "execute_result"
    }
   ],
   "source": [
    "import warnings\n",
    "\n",
    "import warnings\n",
    "\n",
    "warnings.filterwarnings(\n",
    "    action='ignore',\n",
    "    category=RuntimeWarning,\n",
    "    message=r'.*invalid value encountered in log2.*'\n",
    ")\n",
    "\n",
    "def von_neumann_entropy(state: np.ndarray):\n",
    "    \"\"\"\n",
    "    Calculate the von Neumann entropy of a quantum state.\n",
    "    The von Neumann entropy is defined as:\n",
    "        S(ρ) = -Tr(ρ log2(ρ))\n",
    "\n",
    "    where ρ is the density matrix of the quantum state.\n",
    "    Args:\n",
    "        state (np.ndarray): The quantum state, can be a density matrix or a pure state.\n",
    "        ax (int): Axis along which to compute the entropy. Default is -1.\n",
    "    Returns:\n",
    "        np.ndarray: The von Neumann entropy of the state.\n",
    "    \"\"\"\n",
    "\n",
    "    check = qs.is_state(state)\n",
    "    if not check[1]:\n",
    "        raise Exception(\"Input is not a valid quantum state\")\n",
    "    if check[0] != 3:\n",
    "        state = qs.ket_to_dm(state)\n",
    "\n",
    "    state = np.asarray(state, dtype = complex)\n",
    "\n",
    "    eigs = np.linalg.eigvalsh(state)\n",
    "    entropy = np.sum(-eigs * np.log2(eigs), axis = -1)\n",
    "    if np.shape(entropy) == ():\n",
    "        entropy = np.array([entropy])\n",
    "    entropy[np.where(np.isnan(entropy))] = 0\n",
    "    return entropy\n",
    "\n",
    "state = qs.random_qubit(3, pure = False, dm = True) \n",
    "von_neumann_entropy(state)"
   ]
  },
  {
   "cell_type": "code",
   "execution_count": 558,
   "id": "d70c8a42",
   "metadata": {},
   "outputs": [
    {
     "data": {
      "text/plain": [
       "array([ True,  True,  True,  True,  True,  True,  True,  True,  True,\n",
       "        True])"
      ]
     },
     "execution_count": 558,
     "metadata": {},
     "output_type": "execute_result"
    }
   ],
   "source": [
    "state = [qs.random_qubit(3, pure = True, dm = True) for i in range(10)]\n",
    "\n",
    "np.any(np.isclose(np.linalg.eigvalsh(state), 1), axis = -1)"
   ]
  },
  {
   "cell_type": "code",
   "execution_count": 228,
   "id": "c2eca160",
   "metadata": {},
   "outputs": [],
   "source": [
    "H_test = np.sum([[J[i,j]*np.dot(z[i],z[j] )for i in range(3)] for j in range(3)], axis = (0,1))"
   ]
  },
  {
   "cell_type": "code",
   "execution_count": 229,
   "id": "f98b9d6b",
   "metadata": {},
   "outputs": [
    {
     "data": {
      "text/plain": [
       "True"
      ]
     },
     "execution_count": 229,
     "metadata": {},
     "output_type": "execute_result"
    }
   ],
   "source": [
    "np.allclose(H,H_test)"
   ]
  },
  {
   "cell_type": "code",
   "execution_count": 11,
   "id": "8f2cd067",
   "metadata": {},
   "outputs": [
    {
     "data": {
      "text/plain": [
       "(3, True)"
      ]
     },
     "execution_count": 11,
     "metadata": {},
     "output_type": "execute_result"
    }
   ],
   "source": [
    "state = [qs.random_qubit(4, pure = True, dm = True) for i in range(10)]\n",
    "qs.is_state(state)"
   ]
  },
  {
   "cell_type": "code",
   "execution_count": 5,
   "id": "877a7d94",
   "metadata": {},
   "outputs": [
    {
     "name": "stderr",
     "output_type": "stream",
     "text": [
      "100%|██████████| 5/5 [00:00<00:00, 714.09it/s]\n"
     ]
    },
    {
     "data": {
      "text/plain": [
       "array([[[0.88563915-3.69494902e-26j, 0.01432705+1.46380481e-01j],\n",
       "        [0.01432705-1.46380481e-01j, 0.11436085+3.73647723e-26j]],\n",
       "\n",
       "       [[0.75999731-3.00523769e-26j, 0.04775592+2.40364020e-01j],\n",
       "        [0.04775592-2.40364020e-01j, 0.24000269+3.38090441e-26j]],\n",
       "\n",
       "       [[0.63323971-1.42454260e-19j, 0.08810637+2.90456364e-01j],\n",
       "        [0.08810637-2.90456364e-01j, 0.36676029+1.46690436e-19j]],\n",
       "\n",
       "       [[0.52064962-7.48714072e-19j, 0.12576854+2.93737455e-01j],\n",
       "        [0.12576854-2.93737455e-01j, 0.47935038+7.60588079e-19j]],\n",
       "\n",
       "       [[0.42013505-1.86174175e-18j, 0.15307276+2.53030154e-01j],\n",
       "        [0.15307276-2.53030154e-01j, 0.57986495+1.94392272e-18j]]])"
      ]
     },
     "execution_count": 5,
     "metadata": {},
     "output_type": "execute_result"
    }
   ],
   "source": [
    "qs.CD_evolution(np.random.random(10),qs.sigmax(), qs.sigmaz(), [qs.sigmay()], 0.1,  5, ρ = None, disable_progress_bar = False)"
   ]
  },
  {
   "cell_type": "code",
   "execution_count": 79,
   "id": "c527e4cb",
   "metadata": {},
   "outputs": [
    {
     "data": {
      "text/plain": [
       "(10, 3, 4)"
      ]
     },
     "execution_count": 79,
     "metadata": {},
     "output_type": "execute_result"
    }
   ],
   "source": [
    "state = qs.random_qubit(4, pure = True, dm = True)\n",
    "meas = measure([state]*10, [qs.sigmax()]*3)\n",
    "measure2 = qs.measure(state, [np.kron(qs.sigmaz(), qs.sigmaz())]*5)\n",
    "meas.shape"
   ]
  },
  {
   "cell_type": "code",
   "execution_count": 11,
   "id": "ccd84d1f",
   "metadata": {},
   "outputs": [
    {
     "data": {
      "text/plain": [
       "(2, 3, 4, 4)"
      ]
     },
     "execution_count": 11,
     "metadata": {},
     "output_type": "execute_result"
    }
   ],
   "source": [
    "a = np.random.random((2,4,4))\n",
    "b = np.random.random((3,4,4))\n",
    "(a[:, np.newaxis]@b[np.newaxis,:]).shape"
   ]
  },
  {
   "cell_type": "code",
   "execution_count": 3,
   "id": "50f4e37d",
   "metadata": {},
   "outputs": [
    {
     "name": "stderr",
     "output_type": "stream",
     "text": [
      "100%|██████████| 30/30 [00:01<00:00, 22.93it/s]\n"
     ]
    }
   ],
   "source": [
    "from tqdm import tqdm\n",
    "N = 5\n",
    "Js = 1\n",
    "J = qso.random_coupling(Js, N)\n",
    "X = qs.local_operators(qs.sigmax(), N)\n",
    "Z = qs.local_operators(qs.sigmaz(), N)\n",
    "h = 0.1\n",
    "H0 = np.sum(qso.interaction(X, J) + h*Z ,0)\n",
    "H1 = h*np.sum(X,0)\n",
    "stato = qs.random_qubit(N, pure = True, dm = True)\n",
    "ρ = stato\n",
    "σm = qs.local_operators(qs.sigmam(), N)\n",
    "\n",
    "states = []\n",
    "dt = 10/370\n",
    "ρt = np.zeros((370,2**N,2**N), dtype = complex)\n",
    "    \n",
    "sh = sp.csc_matrix(qso.Super_H(H0), dtype = complex)\n",
    "sd = sp.csc_matrix(qso.Super_D(σm), dtype = complex)\n",
    "\n",
    "def Lindblad_Propagator(SH: np.ndarray | sp.csc_matrix, SD: np.ndarray | sp.csc_matrix, dt: float, ρ: np.ndarray):\n",
    "    \"\"\"\n",
    "    Lindblad propagator for Lindblad equation\n",
    "    :L: super operator\n",
    "    :dt: time step\n",
    "    :ρ: density matrix\n",
    "    :return: propagated density matrix\n",
    "    \"\"\"\n",
    "    L = SH + SD\n",
    "    is_sparse = type(L) == sp.csc_matrix or sp.csc_array\n",
    "    if ρ.ndim != 1:\n",
    "        ρ = ρ.flatten()\n",
    "    if is_sparse:\n",
    "        return expm_multiply(L, ρ, start = 0 , stop = dt, num = 2)[-1]\n",
    "    else:\n",
    "        return expm(L * dt) @ ρ\n",
    "    \n",
    "def CD_evolution(sk: np.ndarray, H1: np.ndarray | sp.csc_matrix | sp.csc_array, H0: np.ndarray | sp.csc_matrix | sp.csc_array, c_ops: list, δt: float,  steps: int, ρ = None):\n",
    "    #Evolution\n",
    "    Nq = int(np.log2(H0.shape[0]))\n",
    "    superd = sp.csc_matrix(qso.Super_D(c_ops), dtype = complex)\n",
    "    if ρ is None:\n",
    "        ρ = qso.zero(dm = True, N = Nq)\n",
    "    ρt = np.zeros((steps, 2**Nq, 2**Nq), dtype = complex)\n",
    "    for i in tqdm(range(steps)):\n",
    "        superh = sp.csc_matrix(qso.Super_H(H0 + (sk[i] + 1)*H1), dtype = complex)\n",
    "        ρt[i] = Lindblad_Propagator(superh, superd, δt, ρ).reshape(2**Nq, 2**Nq)\n",
    "        ρ = ρt[i]\n",
    "\n",
    "    return ρt\n",
    "sk = np.random.random(30)\n",
    "ρt = CD_evolution(sk, H1, H0, σm, dt, 30, stato)\n",
    "states = (qs.measure(ρt, qs.sigmaz()))"
   ]
  },
  {
   "cell_type": "code",
   "execution_count": 37,
   "id": "9111aa0e",
   "metadata": {},
   "outputs": [
    {
     "name": "stderr",
     "output_type": "stream",
     "text": [
      "100%|██████████| 10/10 [00:00<00:00, 1575.21it/s]"
     ]
    },
    {
     "name": "stdout",
     "output_type": "stream",
     "text": [
      "0\n",
      "1\n",
      "2\n",
      "3\n",
      "4\n",
      "5\n",
      "6\n",
      "7\n",
      "8\n",
      "9\n"
     ]
    },
    {
     "name": "stderr",
     "output_type": "stream",
     "text": [
      "\n"
     ]
    }
   ],
   "source": [
    "for i in tqdm(range(10),disable=False):\n",
    "    print(i)\n"
   ]
  },
  {
   "cell_type": "code",
   "execution_count": 35,
   "id": "13d38af0",
   "metadata": {},
   "outputs": [
    {
     "data": {
      "text/plain": [
       "(3, True)"
      ]
     },
     "execution_count": 35,
     "metadata": {},
     "output_type": "execute_result"
    }
   ],
   "source": [
    "state = qs.random_qubit(4, pure = True, dm = False)\n",
    "qs.is_state(evolve_unitary(U, state))"
   ]
  },
  {
   "cell_type": "code",
   "execution_count": 13,
   "id": "30cc95ae",
   "metadata": {},
   "outputs": [
    {
     "data": {
      "text/plain": [
       "(3, True)"
      ]
     },
     "execution_count": 13,
     "metadata": {},
     "output_type": "execute_result"
    }
   ],
   "source": [
    "U = qs.haar_random_unitary(4)\n",
    "state = np.array([qs.random_qubit(4, pure = True, dm = True) for i in range(5)])\n",
    "qs.is_state(U@state@qs.dag(U))"
   ]
  },
  {
   "cell_type": "code",
   "execution_count": null,
   "id": "2cb1629d",
   "metadata": {},
   "outputs": [
    {
     "data": {
      "text/plain": [
       "(80, 80)"
      ]
     },
     "execution_count": 20,
     "metadata": {},
     "output_type": "execute_result"
    }
   ],
   "source": [
    "state = np.array([qs.random_qubit(4, pure = True, dm = False) for i in range(5)])\n",
    "np.outer(state, qs.dag(state))"
   ]
  },
  {
   "cell_type": "code",
   "execution_count": 22,
   "id": "749ac59e",
   "metadata": {},
   "outputs": [
    {
     "name": "stdout",
     "output_type": "stream",
     "text": [
      "porcodio\n"
     ]
    }
   ],
   "source": [
    "rho = np.array(qs.random_qubit(4, pure = True, dm = False) )\n",
    "if rho.ndim == 1 or (rho.shape[0] != rho.shape[1] and rho.ndim == 2):\n",
    "    print('porcodio')\n",
    "    rho = qs.ket_to_dm(rho)\n"
   ]
  },
  {
   "cell_type": "code",
   "execution_count": 3,
   "id": "78207c77",
   "metadata": {},
   "outputs": [],
   "source": [
    "state_ivp = qs.evolve_lindblad(stato, H, np.arange(0, 10, 10/370), c_ops = σm)"
   ]
  },
  {
   "cell_type": "code",
   "execution_count": null,
   "id": "bd507f5f",
   "metadata": {},
   "outputs": [
    {
     "data": {
      "text/plain": [
       "array([0.])"
      ]
     },
     "execution_count": 40,
     "metadata": {},
     "output_type": "execute_result"
    }
   ],
   "source": [
    "[0,dt]"
   ]
  },
  {
   "cell_type": "code",
   "execution_count": 61,
   "id": "b817a239",
   "metadata": {},
   "outputs": [
    {
     "name": "stderr",
     "output_type": "stream",
     "text": [
      "100%|██████████| 30/30 [01:00<00:00,  2.01s/it]\n"
     ]
    }
   ],
   "source": [
    "c_ops = [qt.Qobj(c, dims = [[2 for i in range(N)] for j in range(2)]) for c in σm]\n",
    "eops = [qt.Qobj(e, dims = [[2 for i in range(N)] for j in range(2)]) for e in (Z)]\n",
    "H0 = qt.Qobj(H0, dims = [[2 for i in range(N)] for j in range(2)])\n",
    "H1 = qt.Qobj(H1, dims = [[2 for i in range(N)] for j in range(2)])\n",
    "\n",
    "stato = qt.Qobj(stato, dims = [[2 for i in range(N)] for j in range(2)])\n",
    "state_qutip = np.zeros((30,5), dtype = complex)\n",
    "for k in tqdm(range(30)):\n",
    "    state_update = qt.mesolve(H0 + (1+sk[k])*H1, stato, [0,dt], c_ops = c_ops, e_ops = eops, options = {'store_final_state': True})\n",
    "    stato = state_update.final_state\n",
    "    state_qutip[k] = np.array(state_update.expect)[:,-1]"
   ]
  },
  {
   "cell_type": "code",
   "execution_count": 57,
   "id": "2e528233",
   "metadata": {},
   "outputs": [
    {
     "data": {
      "text/plain": [
       "array([-0.19260371, -0.20577622,  0.10719096,  0.01785502, -0.05879561])"
      ]
     },
     "execution_count": 57,
     "metadata": {},
     "output_type": "execute_result"
    }
   ],
   "source": [
    "np.array(state_update.expect)[:,-1]"
   ]
  },
  {
   "cell_type": "code",
   "execution_count": 14,
   "id": "62d6f9d7",
   "metadata": {},
   "outputs": [],
   "source": [
    "m_qtp = state_qutip.expect"
   ]
  },
  {
   "cell_type": "code",
   "execution_count": 6,
   "id": "49e0320a",
   "metadata": {},
   "outputs": [],
   "source": [
    "state_ivp = state_ivp.T.reshape(370, 2**5, 2**5)\n"
   ]
  },
  {
   "cell_type": "code",
   "execution_count": 35,
   "id": "8c7f9f11",
   "metadata": {},
   "outputs": [
    {
     "data": {
      "text/plain": [
       "(370, 32, 32)"
      ]
     },
     "execution_count": 35,
     "metadata": {},
     "output_type": "execute_result"
    }
   ],
   "source": [
    "state_qutip.shape"
   ]
  },
  {
   "cell_type": "code",
   "execution_count": 62,
   "id": "aa6d6e69",
   "metadata": {},
   "outputs": [],
   "source": [
    "# m_ivp = qs.measure(state_ivp, qs.sigmax())\n",
    "m_qso = qs.measure(ρt, qs.sigmaz())\n",
    "# m_qutip = qs.measure(state_qutip, qs.sigmaz())\n"
   ]
  },
  {
   "cell_type": "code",
   "execution_count": 64,
   "id": "b865abd5",
   "metadata": {},
   "outputs": [
    {
     "data": {
      "text/plain": [
       "[<matplotlib.lines.Line2D at 0x1a305e73a10>]"
      ]
     },
     "execution_count": 64,
     "metadata": {},
     "output_type": "execute_result"
    },
    {
     "data": {
      "image/png": "[encoded data removed]",
      "text/plain": [
       "<Figure size 640x480 with 1 Axes>"
      ]
     },
     "metadata": {},
     "output_type": "display_data"
    }
   ],
   "source": [
    "import matplotlib.pyplot as plt\n",
    "\n",
    "# plt.plot(m_ivp[:,0,0],'.')\n",
    "plt.plot(states[:,0,1])\n",
    "# plt.plot(m_qutip[0,0,:,0],'.')\n",
    "plt.plot(np.array(state_qutip)[:,1],'--')"
   ]
  },
  {
   "cell_type": "code",
   "execution_count": 36,
   "id": "e3dc61ee",
   "metadata": {},
   "outputs": [
    {
     "data": {
      "text/plain": [
       "(370, 1, 5)"
      ]
     },
     "execution_count": 36,
     "metadata": {},
     "output_type": "execute_result"
    }
   ],
   "source": [
    "np.array(m_qso).shape"
   ]
  }
 ],
 "metadata": {
  "kernelspec": {
   "display_name": "quantum_env",
   "language": "python",
   "name": "python3"
  },
  "language_info": {
   "codemirror_mode": {
    "name": "ipython",
    "version": 3
   },
   "file_extension": ".py",
   "mimetype": "text/x-python",
   "name": "python",
   "nbconvert_exporter": "python",
   "pygments_lexer": "ipython3",
   "version": "3.12.8"
  }
 },
 "nbformat": 4,
 "nbformat_minor": 5
}
