{
 "cells": [
  {
   "cell_type": "code",
   "execution_count": 1,
   "id": "2d4a1f40",
   "metadata": {},
   "outputs": [],
   "source": [
    "import numpy as np\n",
    "import qutip as qt\n",
    "import QuantumStuff as qs\n",
    "import scipy.sparse as sp\n",
    "from scipy.sparse.linalg import expm_multiply\n",
    "from scipy.sparse import csc_matrix, csc_array"
   ]
  },
  {
   "cell_type": "code",
   "execution_count": 2,
   "id": "2da81e6e",
   "metadata": {},
   "outputs": [],
   "source": [
    "from scipy.special import comb\n",
    "import sklearn.linear_model as LM"
   ]
  },
  {
   "cell_type": "code",
   "execution_count": null,
   "id": "91685778",
   "metadata": {},
   "outputs": [],
   "source": [
    "def CD_training(sk: np.ndarray, y_target: np.ndarray, H1: np.ndarray | sp.csc_matrix | sp.csc_array, H0: np.ndarray | sp.csc_matrix | sp.csc_array, c_ops: list, δt: float, qq_op: list | None,  wo: int = 1000, train_size: int = 1000, state = None):\n",
    "    \n",
    "    Nq = int(np.log2(H0.shape[0]))\n",
    "    if \n",
    "    if state is None:\n",
    "        state = qs.zero(dm = True, N = Nq)\n",
    "    statet = qs.QRC.CD_evolution(sk, H1, H0, c_ops, δt, wo + train_size, state)\n",
    "    if qq_ops is None:\n",
    "        qq_ops = [np.kron(qs.sigmax(),qs.sigmax()), np.kron(qs.sigmay(),qs.sigmay()), np.kron(qs.sigmaz(),qs.sigmaz())]\n",
    "    #Measurements\n",
    "    if Nq != 1:\n",
    "        x_train = np.real(np.hstack((qs.measure(statet, [qs.sigmax(), qs.sigmay(), qs.sigmaz()]).reshape(wo+train_size, 3*Nq), qs.measure(statet, qq_op).reshape(wo + train_size, int(len(tqo)*comb(Nq, 2))), np.ones((wo+train_size, 1)))))\n",
    "    else:\n",
    "        x_train = np.real(np.hstack(((qs.measure(statet).reshape(wo+train_size, 3*Nq), np.ones((wo+train_size, 1))))))\n",
    "\n",
    "    #Training\n",
    "    alpha = np.logspace(-9,3,1000)\n",
    "    ridge = LM.RidgeCV(alphas = alpha)\n",
    "    ## For forecasting problems y_target = sk[wo+1:wo+train_size+1]\n",
    "    ridge.fit((x_train[wo:]), y_target)\n",
    "\n",
    "    return ridge, x_train, statet[-1]"
   ]
  },
  {
   "cell_type": "code",
   "execution_count": 2,
   "id": "46ff7c5d",
   "metadata": {},
   "outputs": [],
   "source": [
    "from scipy.sparse import csc_array\n",
    "Nq = 5\n",
    "J = qs.random_coupling(1, Nq)\n",
    "X = qs.local_operators(qs.sigmax(), Nq)\n",
    "Z = qs.local_operators(qs.sigmaz(), Nq)\n",
    "H0 = csc_matrix(qs.interaction(X, J))\n",
    "h = 0.1\n",
    "g = 0.1\n",
    "H1 = csc_matrix(np.sum(h * Z, 0))\n",
    "H = H0 + H1\n",
    "H2 = csc_matrix(np.sum(h * X, 0))\n",
    "state = qs.zero(dm = True, N = Nq)\n",
    "sk = np.load(\"../Input_MG.npy\")\n",
    "cops = qs.local_operators(csc_array(np.sqrt(g)*qs.sigmam()), Nq)"
   ]
  },
  {
   "cell_type": "code",
   "execution_count": 3,
   "id": "98c913da",
   "metadata": {},
   "outputs": [
    {
     "ename": "NameError",
     "evalue": "name 'CD_training' is not defined",
     "output_type": "error",
     "traceback": [
      "\u001b[1;31m---------------------------------------------------------------------------\u001b[0m",
      "\u001b[1;31mNameError\u001b[0m                                 Traceback (most recent call last)",
      "Cell \u001b[1;32mIn[3], line 1\u001b[0m\n\u001b[1;32m----> 1\u001b[0m ridge, x_train, state_out \u001b[38;5;241m=\u001b[39m \u001b[43mCD_training\u001b[49m(sk, sk[\u001b[38;5;241m1000\u001b[39m:\u001b[38;5;241m2000\u001b[39m], H2, H, cops, \u001b[38;5;241m0.01\u001b[39m)\n",
      "\u001b[1;31mNameError\u001b[0m: name 'CD_training' is not defined"
     ]
    }
   ],
   "source": [
    "ridge, x_train, state_out = CD_training(sk, sk[1000:2000], H2, H, cops, 0.01)"
   ]
  },
  {
   "cell_type": "code",
   "execution_count": 7,
   "id": "d2af8a67",
   "metadata": {},
   "outputs": [
    {
     "ename": "AttributeError",
     "evalue": "'Qobj' object has no attribute 'toarray'",
     "output_type": "error",
     "traceback": [
      "\u001b[1;31m---------------------------------------------------------------------------\u001b[0m",
      "\u001b[1;31mAttributeError\u001b[0m                            Traceback (most recent call last)",
      "Cell \u001b[1;32mIn[7], line 1\u001b[0m\n\u001b[1;32m----> 1\u001b[0m H0 \u001b[38;5;241m=\u001b[39m qt\u001b[38;5;241m.\u001b[39mQobj(\u001b[43mH0\u001b[49m\u001b[38;5;241;43m.\u001b[39;49m\u001b[43mtoarray\u001b[49m(), dims\u001b[38;5;241m=\u001b[39m[[\u001b[38;5;241m2\u001b[39m]\u001b[38;5;241m*\u001b[39mNq, [\u001b[38;5;241m2\u001b[39m]\u001b[38;5;241m*\u001b[39mNq])\n\u001b[0;32m      2\u001b[0m H1 \u001b[38;5;241m=\u001b[39m qt\u001b[38;5;241m.\u001b[39mQobj(H1\u001b[38;5;241m.\u001b[39mtoarray(), dims\u001b[38;5;241m=\u001b[39m[[\u001b[38;5;241m2\u001b[39m]\u001b[38;5;241m*\u001b[39mNq, [\u001b[38;5;241m2\u001b[39m]\u001b[38;5;241m*\u001b[39mNq])\n\u001b[0;32m      3\u001b[0m H \u001b[38;5;241m=\u001b[39m H0 \u001b[38;5;241m+\u001b[39m H1\n",
      "\u001b[1;31mAttributeError\u001b[0m: 'Qobj' object has no attribute 'toarray'"
     ]
    }
   ],
   "source": [
    "H0 = qt.Qobj(H0.toarray(), dims=[[2]*Nq, [2]*Nq])\n",
    "H1 = qt.Qobj(H1.toarray(), dims=[[2]*Nq, [2]*Nq])\n",
    "H = H0 + H1\n",
    "H2 = qt.Qobj(H2.toarray(), dims=[[2]*Nq, [2]*Nq])\n",
    "cops = [qt.Qobj(cop.toarray(), dims=[[2]*Nq, [2]*Nq]) for cop in cops]"
   ]
  },
  {
   "cell_type": "code",
   "execution_count": 8,
   "id": "63a5025a",
   "metadata": {},
   "outputs": [
    {
     "name": "stdout",
     "output_type": "stream",
     "text": [
      "Number of local operators: 15\n",
      "Number of two-qubit operators: 30\n",
      "Total number of operators: 45\n"
     ]
    }
   ],
   "source": [
    "from qutip import tensor, qeye, sigmax, sigmay, sigmaz\n",
    "\n",
    "# Number of qubits\n",
    "n_qubits = 5\n",
    "\n",
    "# Define Pauli matrices\n",
    "paulis = {'x': sigmax(), 'y': sigmay(), 'z': sigmaz()}\n",
    "\n",
    "# Identity operator for single qubit\n",
    "id_op = qeye(2)\n",
    "\n",
    "# List to hold local and two-qubit operators\n",
    "local_ops = []\n",
    "two_qubit_ops = []\n",
    "\n",
    "# Create local single-qubit operators\n",
    "for i in range(n_qubits):\n",
    "    for label, op in paulis.items():\n",
    "        op_list = [id_op] * n_qubits\n",
    "        op_list[i] = op\n",
    "        local_ops.append(tensor(op_list))\n",
    "\n",
    "# Create two-qubit operators of the type xx, yy, zz\n",
    "for i in range(n_qubits):\n",
    "    for j in range(i+1, n_qubits):\n",
    "        for label, op in paulis.items():\n",
    "            op_list = [id_op] * n_qubits\n",
    "            op_list[i] = op\n",
    "            op_list[j] = op\n",
    "            two_qubit_ops.append(tensor(op_list))\n",
    "\n",
    "# Optional: combine all operators in a single list if needed\n",
    "all_ops = local_ops + two_qubit_ops\n",
    "\n",
    "# Example: print number of operators\n",
    "print(f\"Number of local operators: {len(local_ops)}\")\n",
    "print(f\"Number of two-qubit operators: {len(two_qubit_ops)}\")\n",
    "print(f\"Total number of operators: {len(all_ops)}\")"
   ]
  },
  {
   "cell_type": "code",
   "execution_count": 9,
   "id": "04f606b7",
   "metadata": {},
   "outputs": [
    {
     "name": "stderr",
     "output_type": "stream",
     "text": [
      "100%|██████████| 31/31 [00:13<00:00,  2.32it/s]"
     ]
    },
    {
     "name": "stdout",
     "output_type": "stream",
     "text": [
      "Expectation values at final timestep:\n",
      "[0.001399848137449255, -0.01696417411366186, 0.16255667380303343, 0.0018083383156385297, -0.03355872873026485, 0.3251477450844211, 0.0015272784583751514, -0.021165442835744678, 0.20913652035496313, 0.0020261861620456947, -0.04505973319520247, 0.45398120348821663, 0.0015679281057488792, -0.0230172723988779, 0.22593298681105897, 0.03602280362157642, -0.01842561375239545, 0.05846282206953801, -0.029503690016496942, 0.032871657684748506, -0.0031841986809770066, -0.0373682790401767, 0.26990793968630666, 0.2893420549069778, -0.022823500315972283, 0.41070471530600144, 0.3999473130573074, -0.023811313561021605, -0.35423843901746105, 0.3975767098333322, 0.002324490905639964, -0.2389344184326201, 0.15145523270341818, 0.028525716008088536, 0.006168179075500912, -0.06454231120542012, -0.017699701069290547, 0.30078258429911287, 0.2897792479515612, -0.04142634963971993, 0.11650940830087242, 0.10105182873128755, -0.017640123898573563, 0.29660859426046743, 0.29065604578431303]\n"
     ]
    },
    {
     "name": "stderr",
     "output_type": "stream",
     "text": [
      "\n"
     ]
    }
   ],
   "source": [
    "from qutip import tensor, qeye, sigmax, sigmay, sigmaz, basis, expect, mesolve, sigmam\n",
    "import numpy as np\n",
    "from tqdm import tqdm\n",
    "\n",
    "# Number of qubits\n",
    "n_qubits = 5\n",
    "\n",
    "# Define Pauli matrices\n",
    "paulis = {'x': sigmax(), 'y': sigmay(), 'z': sigmaz()}\n",
    "\n",
    "# Identity operator for single qubit\n",
    "id_op = qeye(2)\n",
    "\n",
    "# List to hold local and two-qubit operators\n",
    "local_ops = []\n",
    "two_qubit_ops = []\n",
    "\n",
    "# Create local single-qubit operators\n",
    "for i in range(n_qubits):\n",
    "    for label, op in paulis.items():\n",
    "        op_list = [id_op] * n_qubits\n",
    "        op_list[i] = op\n",
    "        local_ops.append(tensor(op_list))\n",
    "\n",
    "# Create two-qubit operators of the type xx, yy, zz\n",
    "for i in range(n_qubits):\n",
    "    for j in range(i+1, n_qubits):\n",
    "        for label, op in paulis.items():\n",
    "            op_list = [id_op] * n_qubits\n",
    "            op_list[i] = op\n",
    "            op_list[j] = op\n",
    "            two_qubit_ops.append(tensor(op_list))\n",
    "\n",
    "# Combine all operators\n",
    "all_ops = local_ops + two_qubit_ops\n",
    "\n",
    "# Initial state (e.g., all qubits in ground state |0>)\n",
    "\n",
    "# Time steps and duration\n",
    "timesteps = 31\n",
    "dt = 0.01\n",
    "times = np.linspace(0, dt, 2)  # short evolution interval\n",
    "\n",
    "# Function to generate a time-dependent Hamiltonian (e.g., random local field\n",
    "\n",
    "# Collapse operators for decoherence (e.g., amplitude damping on each qubit)\n",
    "gamma = 0.1  # decoherence rate\n",
    "c_ops = []\n",
    "for i in range(n_qubits):\n",
    "    lowering_op = tensor([sigmam() if j == i else id_op for j in range(n_qubits)])  # Replace with lowering if needed\n",
    "    c_ops.append(np.sqrt(gamma) * lowering_op)\n",
    "\n",
    "# List to store expectation values\n",
    "expectation_values = []\n",
    "\n",
    "# Current state\n",
    "state = qt.Qobj(state, dims = [[2]*n_qubits, [2]*n_qubits])  # Convert to Qobj if needed\n",
    "\n",
    "# Time evolution using the master equation with changing Hamiltonian\n",
    "for step in tqdm(range(timesteps)):\n",
    "    Htot = H + (1+sk[step])*H2\n",
    "    result = mesolve(Htot, state, times, c_ops)\n",
    "    state = result.states[-1]  # Update state\n",
    "    exp_vals = [expect(op, state) for op in all_ops]\n",
    "    expectation_values.append(exp_vals)\n",
    "\n",
    "# Example: print expectation values at the last step\n",
    "print(\"Expectation values at final timestep:\")\n",
    "print(expectation_values[-1])\n"
   ]
  },
  {
   "cell_type": "code",
   "execution_count": 100,
   "id": "81a7422f",
   "metadata": {},
   "outputs": [
    {
     "name": "stderr",
     "output_type": "stream",
     "text": [
      "  0%|          | 0/3500 [00:00<?, ?it/s]"
     ]
    },
    {
     "name": "stderr",
     "output_type": "stream",
     "text": [
      "100%|██████████| 3500/3500 [02:29<00:00, 23.39it/s]\n"
     ]
    }
   ],
   "source": [
    "import quantum_stuff as qso\n",
    "import numpy as np\n",
    "from scipy.sparse import csc_array\n",
    "import sklearn.linear_model as LM\n",
    "import QuantumStuff as qs\n",
    "sk = np.load(\"../Input_MG.npy\")\n",
    "dt = 0.02\n",
    "h = 6\n",
    "gamma = [0.01, 0.02,0.03, 0.04, 0.05, 0.06, 0.07, 0.08, 0.09, 0.1, 0.2, 0.3, 0.4, 0.5, 0.6, 0.7, 0.8, 0.9, 1,2,3,4,5,6,7,8,9,10,12,13,14,15,16,17,18,19,20]\n",
    "Nq = 5\n",
    "wo = 1000\n",
    "train_size = 1000\n",
    "test_size = 1500\n",
    "Js = 1\n",
    "sx = qs.sigmax()\n",
    "sz = qs.sigmaz()\n",
    "sm = qs.sigmam()\n",
    "X = qs.local_operators(sx, Nq)\n",
    "Z = qs.local_operators(sz, Nq)\n",
    "np.random.seed()\n",
    "J = qs.random_coupling(Js, Nq)\n",
    "# np.save(fname+\"_coupling.npy\", J)\n",
    "H1 = csc_array(h*np.sum(X,0))\n",
    "H0 = csc_array(np.sum(qs.interaction(X, J) + h*Z,0))\n",
    "cops = qs.local_operators(np.sqrt(10)*sm, Nq)\n",
    "cops = [csc_array(c, dtype = complex) for c in cops]\n",
    "state = qs.QRC.CD_evolution(sk, H1, H0, cops, dt, wo + train_size+test_size)"
   ]
  },
  {
   "cell_type": "code",
   "execution_count": 91,
   "id": "c261e448",
   "metadata": {},
   "outputs": [
    {
     "data": {
      "text/plain": [
       "(3500, 3, 5)"
      ]
     },
     "execution_count": 91,
     "metadata": {},
     "output_type": "execute_result"
    }
   ],
   "source": [
    "qs.measure(state, [qs.sigmax(), qs.sigmay(), qs.sigmaz()]).shape"
   ]
  },
  {
   "cell_type": "code",
   "execution_count": 101,
   "id": "a5eb61d4",
   "metadata": {},
   "outputs": [
    {
     "name": "stdout",
     "output_type": "stream",
     "text": [
      "RidgeCV(alphas=array([1.00000000e-09, 1.02804473e-09, 1.05687597e-09, 1.08651577e-09,\n",
      "       1.11698682e-09, 1.14831241e-09, 1.18051653e-09, 1.21362380e-09,\n",
      "       1.24765955e-09, 1.28264983e-09, 1.31862140e-09, 1.35560179e-09,\n",
      "       1.39361927e-09, 1.43270295e-09, 1.47288272e-09, 1.51418933e-09,\n",
      "       1.55665436e-09, 1.60031031e-09, 1.64519059e-09, 1.69132952e-09,\n",
      "       1.73876240e-09, 1.78752553e-0...\n",
      "       5.29326606e+02, 5.44171429e+02, 5.59432571e+02, 5.75121707e+02,\n",
      "       5.91250841e+02, 6.07832313e+02, 6.24878807e+02, 6.42403366e+02,\n",
      "       6.60419396e+02, 6.78940681e+02, 6.97981391e+02, 7.17556092e+02,\n",
      "       7.37679760e+02, 7.58367791e+02, 7.79636013e+02, 8.01500696e+02,\n",
      "       8.23978568e+02, 8.47086827e+02, 8.70843150e+02, 8.95265713e+02,\n",
      "       9.20373200e+02, 9.46184819e+02, 9.72720319e+02, 1.00000000e+03]))\n"
     ]
    }
   ],
   "source": [
    "from scipy.special import comb\n",
    "sy = qs.sigmay()\n",
    "sx = qs.sigmax()\n",
    "sz = qs.sigmaz()\n",
    "tqo = [np.kron(sx, sx), np.kron(sy, sy), np.kron(sz, sz)]    \n",
    "x_train = np.hstack((qs.measure(state, [sx,sy,sz]).reshape(wo + train_size+ test_size, 3*Nq), qs.measure(state, tqo).reshape(wo + train_size+ test_size,int(len(tqo)*comb(Nq, 2))), np.ones((wo+train_size+test_size, 1))))\n",
    "x_train = np.real(x_train)\n",
    "alpha = np.logspace(-9,3,1000)\n",
    "ridge = LM.RidgeCV(alphas = alpha)\n",
    "tau = 1\n",
    "y_target = sk[wo+tau:wo+train_size+tau]\n",
    "y_target = np.asarray(y_target)\n",
    "\n",
    "ridge.fit((x_train[wo:wo + train_size]), y_target)\n",
    "print(ridge)"
   ]
  },
  {
   "cell_type": "code",
   "execution_count": 102,
   "id": "8f95d38d",
   "metadata": {},
   "outputs": [],
   "source": [
    "state_target = state[wo + train_size:wo + test_size + train_size]"
   ]
  },
  {
   "cell_type": "code",
   "execution_count": 103,
   "id": "57277db2",
   "metadata": {},
   "outputs": [],
   "source": [
    "state_target = state_target.reshape(150,10,2**Nq,2**Nq)"
   ]
  },
  {
   "cell_type": "code",
   "execution_count": 104,
   "id": "9cf70eac",
   "metadata": {},
   "outputs": [],
   "source": [
    "preds = []\n",
    "for j in range(10):\n",
    "    state_test = state[wo + train_size +150*j - 1]\n",
    "    ypred = [sk[wo + train_size +150*j+ i - 1] for i in range(1, tau+1)]\n",
    "    test_size = 150\n",
    "    superd = qs.Super_D(cops)\n",
    "    for i in range(test_size):\n",
    "        superh = qs.Super_H(H0 + (ypred[i] + 1)*H1)\n",
    "        state_test = qs.Lindblad_Propagator(superh, superd, dt, state_test).reshape(2**Nq, 2**Nq)\n",
    "        x_test = np.hstack((qs.measure(state_test, [sx,sy,sz]).reshape(1, 3*Nq), qs.measure(state_test, tqo).reshape(1,int(len(tqo)*comb(Nq, 2))), np.ones((1, 1))))\n",
    "\n",
    "        x_test = np.real(x_test).reshape(1,-1)\n",
    "        prd = ridge.predict(x_test)[0]\n",
    "        if prd <0:\n",
    "            prd = 0\n",
    "        if prd > 1:\n",
    "            prd = 1\n",
    "        ypred.append(prd)\n",
    "    preds.append(ypred)\n",
    "        "
   ]
  },
  {
   "cell_type": "code",
   "execution_count": 105,
   "id": "2631b58e",
   "metadata": {},
   "outputs": [
    {
     "data": {
      "text/plain": [
       "[<matplotlib.lines.Line2D at 0x20f4769b1d0>]"
      ]
     },
     "execution_count": 105,
     "metadata": {},
     "output_type": "execute_result"
    },
    {
     "data": {
      "image/png": "[encoded data removed]",
      "text/plain": [
       "<Figure size 640x480 with 1 Axes>"
      ]
     },
     "metadata": {},
     "output_type": "display_data"
    }
   ],
   "source": [
    "import matplotlib.pyplot as plt\n",
    "plt.plot(preds[0], '.')\n",
    "plt.plot(sk[wo + train_size+(150*0):wo + train_size + test_size + tau+(150*0)])"
   ]
  },
  {
   "cell_type": "code",
   "execution_count": null,
   "id": "a05c24e3",
   "metadata": {},
   "outputs": [
    {
     "ename": "ValueError",
     "evalue": "operands could not be broadcast together with shapes (1000,) (3,) ",
     "output_type": "error",
     "traceback": [
      "\u001b[1;31m---------------------------------------------------------------------------\u001b[0m",
      "\u001b[1;31mValueError\u001b[0m                                Traceback (most recent call last)",
      "File \u001b[1;32mc:\\Users\\marco\\Desktop\\Università\\PhD\\quantum_env\\Lib\\site-packages\\IPython\\core\\formatters.py:974\u001b[0m, in \u001b[0;36mMimeBundleFormatter.__call__\u001b[1;34m(self, obj, include, exclude)\u001b[0m\n\u001b[0;32m    971\u001b[0m     method \u001b[38;5;241m=\u001b[39m get_real_method(obj, \u001b[38;5;28mself\u001b[39m\u001b[38;5;241m.\u001b[39mprint_method)\n\u001b[0;32m    973\u001b[0m     \u001b[38;5;28;01mif\u001b[39;00m method \u001b[38;5;129;01mis\u001b[39;00m \u001b[38;5;129;01mnot\u001b[39;00m \u001b[38;5;28;01mNone\u001b[39;00m:\n\u001b[1;32m--> 974\u001b[0m         \u001b[38;5;28;01mreturn\u001b[39;00m \u001b[43mmethod\u001b[49m\u001b[43m(\u001b[49m\u001b[43minclude\u001b[49m\u001b[38;5;241;43m=\u001b[39;49m\u001b[43minclude\u001b[49m\u001b[43m,\u001b[49m\u001b[43m \u001b[49m\u001b[43mexclude\u001b[49m\u001b[38;5;241;43m=\u001b[39;49m\u001b[43mexclude\u001b[49m\u001b[43m)\u001b[49m\n\u001b[0;32m    975\u001b[0m     \u001b[38;5;28;01mreturn\u001b[39;00m \u001b[38;5;28;01mNone\u001b[39;00m\n\u001b[0;32m    976\u001b[0m \u001b[38;5;28;01melse\u001b[39;00m:\n",
      "File \u001b[1;32mc:\\Users\\marco\\Desktop\\Università\\PhD\\quantum_env\\Lib\\site-packages\\sklearn\\utils\\_repr_html\\base.py:151\u001b[0m, in \u001b[0;36mReprHTMLMixin._repr_mimebundle_\u001b[1;34m(self, **kwargs)\u001b[0m\n\u001b[0;32m    149\u001b[0m output \u001b[38;5;241m=\u001b[39m {\u001b[38;5;124m\"\u001b[39m\u001b[38;5;124mtext/plain\u001b[39m\u001b[38;5;124m\"\u001b[39m: \u001b[38;5;28mrepr\u001b[39m(\u001b[38;5;28mself\u001b[39m)}\n\u001b[0;32m    150\u001b[0m \u001b[38;5;28;01mif\u001b[39;00m get_config()[\u001b[38;5;124m\"\u001b[39m\u001b[38;5;124mdisplay\u001b[39m\u001b[38;5;124m\"\u001b[39m] \u001b[38;5;241m==\u001b[39m \u001b[38;5;124m\"\u001b[39m\u001b[38;5;124mdiagram\u001b[39m\u001b[38;5;124m\"\u001b[39m:\n\u001b[1;32m--> 151\u001b[0m     output[\u001b[38;5;124m\"\u001b[39m\u001b[38;5;124mtext/html\u001b[39m\u001b[38;5;124m\"\u001b[39m] \u001b[38;5;241m=\u001b[39m \u001b[38;5;28;43mself\u001b[39;49m\u001b[38;5;241;43m.\u001b[39;49m\u001b[43m_html_repr\u001b[49m\u001b[43m(\u001b[49m\u001b[43m)\u001b[49m\n\u001b[0;32m    152\u001b[0m \u001b[38;5;28;01mreturn\u001b[39;00m output\n",
      "File \u001b[1;32mc:\\Users\\marco\\Desktop\\Università\\PhD\\quantum_env\\Lib\\site-packages\\sklearn\\utils\\_repr_html\\estimator.py:480\u001b[0m, in \u001b[0;36mestimator_html_repr\u001b[1;34m(estimator)\u001b[0m\n\u001b[0;32m    469\u001b[0m html_template \u001b[38;5;241m=\u001b[39m (\n\u001b[0;32m    470\u001b[0m     \u001b[38;5;124mf\u001b[39m\u001b[38;5;124m\"\u001b[39m\u001b[38;5;124m<style>\u001b[39m\u001b[38;5;132;01m{\u001b[39;00mstyle_with_id\u001b[38;5;132;01m}\u001b[39;00m\u001b[38;5;124m</style>\u001b[39m\u001b[38;5;124m\"\u001b[39m\n\u001b[0;32m    471\u001b[0m     \u001b[38;5;124mf\u001b[39m\u001b[38;5;124m\"\u001b[39m\u001b[38;5;124m<body>\u001b[39m\u001b[38;5;124m\"\u001b[39m\n\u001b[1;32m   (...)\u001b[0m\n\u001b[0;32m    476\u001b[0m     \u001b[38;5;124m'\u001b[39m\u001b[38;5;124m<div class=\u001b[39m\u001b[38;5;124m\"\u001b[39m\u001b[38;5;124msk-container\u001b[39m\u001b[38;5;124m\"\u001b[39m\u001b[38;5;124m hidden>\u001b[39m\u001b[38;5;124m'\u001b[39m\n\u001b[0;32m    477\u001b[0m )\n\u001b[0;32m    479\u001b[0m out\u001b[38;5;241m.\u001b[39mwrite(html_template)\n\u001b[1;32m--> 480\u001b[0m \u001b[43m_write_estimator_html\u001b[49m\u001b[43m(\u001b[49m\n\u001b[0;32m    481\u001b[0m \u001b[43m    \u001b[49m\u001b[43mout\u001b[49m\u001b[43m,\u001b[49m\n\u001b[0;32m    482\u001b[0m \u001b[43m    \u001b[49m\u001b[43mestimator\u001b[49m\u001b[43m,\u001b[49m\n\u001b[0;32m    483\u001b[0m \u001b[43m    \u001b[49m\u001b[43mestimator\u001b[49m\u001b[38;5;241;43m.\u001b[39;49m\u001b[38;5;18;43m__class__\u001b[39;49m\u001b[38;5;241;43m.\u001b[39;49m\u001b[38;5;18;43m__name__\u001b[39;49m\u001b[43m,\u001b[49m\n\u001b[0;32m    484\u001b[0m \u001b[43m    \u001b[49m\u001b[43mestimator_str\u001b[49m\u001b[43m,\u001b[49m\n\u001b[0;32m    485\u001b[0m \u001b[43m    \u001b[49m\u001b[43mfirst_call\u001b[49m\u001b[38;5;241;43m=\u001b[39;49m\u001b[38;5;28;43;01mTrue\u001b[39;49;00m\u001b[43m,\u001b[49m\n\u001b[0;32m    486\u001b[0m \u001b[43m    \u001b[49m\u001b[43mis_fitted_css_class\u001b[49m\u001b[38;5;241;43m=\u001b[39;49m\u001b[43mis_fitted_css_class\u001b[49m\u001b[43m,\u001b[49m\n\u001b[0;32m    487\u001b[0m \u001b[43m    \u001b[49m\u001b[43mis_fitted_icon\u001b[49m\u001b[38;5;241;43m=\u001b[39;49m\u001b[43mis_fitted_icon\u001b[49m\u001b[43m,\u001b[49m\n\u001b[0;32m    488\u001b[0m \u001b[43m\u001b[49m\u001b[43m)\u001b[49m\n\u001b[0;32m    489\u001b[0m \u001b[38;5;28;01mwith\u001b[39;00m \u001b[38;5;28mopen\u001b[39m(\u001b[38;5;28mstr\u001b[39m(Path(\u001b[38;5;18m__file__\u001b[39m)\u001b[38;5;241m.\u001b[39mparent \u001b[38;5;241m/\u001b[39m \u001b[38;5;124m\"\u001b[39m\u001b[38;5;124mestimator.js\u001b[39m\u001b[38;5;124m\"\u001b[39m), \u001b[38;5;124m\"\u001b[39m\u001b[38;5;124mr\u001b[39m\u001b[38;5;124m\"\u001b[39m) \u001b[38;5;28;01mas\u001b[39;00m f:\n\u001b[0;32m    490\u001b[0m     script \u001b[38;5;241m=\u001b[39m f\u001b[38;5;241m.\u001b[39mread()\n",
      "File \u001b[1;32mc:\\Users\\marco\\Desktop\\Università\\PhD\\quantum_env\\Lib\\site-packages\\sklearn\\utils\\_repr_html\\estimator.py:386\u001b[0m, in \u001b[0;36m_write_estimator_html\u001b[1;34m(out, estimator, estimator_label, estimator_label_details, is_fitted_css_class, is_fitted_icon, first_call, param_prefix)\u001b[0m\n\u001b[0;32m    384\u001b[0m \u001b[38;5;28;01melif\u001b[39;00m est_block\u001b[38;5;241m.\u001b[39mkind \u001b[38;5;241m==\u001b[39m \u001b[38;5;124m\"\u001b[39m\u001b[38;5;124msingle\u001b[39m\u001b[38;5;124m\"\u001b[39m:\n\u001b[0;32m    385\u001b[0m     \u001b[38;5;28;01mif\u001b[39;00m \u001b[38;5;28mhasattr\u001b[39m(estimator, \u001b[38;5;124m\"\u001b[39m\u001b[38;5;124m_get_params_html\u001b[39m\u001b[38;5;124m\"\u001b[39m):\n\u001b[1;32m--> 386\u001b[0m         params \u001b[38;5;241m=\u001b[39m \u001b[43mestimator\u001b[49m\u001b[38;5;241;43m.\u001b[39;49m\u001b[43m_get_params_html\u001b[49m\u001b[43m(\u001b[49m\u001b[43m)\u001b[49m\u001b[38;5;241m.\u001b[39m_repr_html_inner()\n\u001b[0;32m    387\u001b[0m     \u001b[38;5;28;01melse\u001b[39;00m:\n\u001b[0;32m    388\u001b[0m         params \u001b[38;5;241m=\u001b[39m \u001b[38;5;124m\"\u001b[39m\u001b[38;5;124m\"\u001b[39m\n",
      "File \u001b[1;32mc:\\Users\\marco\\Desktop\\Università\\PhD\\quantum_env\\Lib\\site-packages\\sklearn\\base.py:310\u001b[0m, in \u001b[0;36mBaseEstimator._get_params_html\u001b[1;34m(self, deep)\u001b[0m\n\u001b[0;32m    306\u001b[0m ordered_out \u001b[38;5;241m=\u001b[39m {name: out[name] \u001b[38;5;28;01mfor\u001b[39;00m name \u001b[38;5;129;01min\u001b[39;00m init_default_params \u001b[38;5;28;01mif\u001b[39;00m name \u001b[38;5;129;01min\u001b[39;00m out}\n\u001b[0;32m    307\u001b[0m ordered_out\u001b[38;5;241m.\u001b[39mupdate({name: out[name] \u001b[38;5;28;01mfor\u001b[39;00m name \u001b[38;5;129;01min\u001b[39;00m remaining_params})\n\u001b[0;32m    309\u001b[0m non_default_ls \u001b[38;5;241m=\u001b[39m \u001b[38;5;28mtuple\u001b[39m(\n\u001b[1;32m--> 310\u001b[0m     [name \u001b[38;5;28;01mfor\u001b[39;00m name, value \u001b[38;5;129;01min\u001b[39;00m ordered_out\u001b[38;5;241m.\u001b[39mitems() \u001b[38;5;28;01mif\u001b[39;00m \u001b[43mis_non_default\u001b[49m\u001b[43m(\u001b[49m\u001b[43mname\u001b[49m\u001b[43m,\u001b[49m\u001b[43m \u001b[49m\u001b[43mvalue\u001b[49m\u001b[43m)\u001b[49m]\n\u001b[0;32m    311\u001b[0m )\n\u001b[0;32m    313\u001b[0m \u001b[38;5;28;01mreturn\u001b[39;00m ParamsDict(ordered_out, non_default\u001b[38;5;241m=\u001b[39mnon_default_ls)\n",
      "File \u001b[1;32mc:\\Users\\marco\\Desktop\\Università\\PhD\\quantum_env\\Lib\\site-packages\\sklearn\\base.py:296\u001b[0m, in \u001b[0;36mBaseEstimator._get_params_html.<locals>.is_non_default\u001b[1;34m(param_name, param_value)\u001b[0m\n\u001b[0;32m    291\u001b[0m \u001b[38;5;28;01mif\u001b[39;00m \u001b[38;5;28misinstance\u001b[39m(param_value, BaseEstimator) \u001b[38;5;129;01mand\u001b[39;00m \u001b[38;5;28mtype\u001b[39m(param_value) \u001b[38;5;129;01mis\u001b[39;00m \u001b[38;5;129;01mnot\u001b[39;00m \u001b[38;5;28mtype\u001b[39m(\n\u001b[0;32m    292\u001b[0m     init_default_params[param_name]\n\u001b[0;32m    293\u001b[0m ):\n\u001b[0;32m    294\u001b[0m     \u001b[38;5;28;01mreturn\u001b[39;00m \u001b[38;5;28;01mTrue\u001b[39;00m\n\u001b[1;32m--> 296\u001b[0m \u001b[38;5;28;01mif\u001b[39;00m \u001b[43mparam_value\u001b[49m\u001b[43m \u001b[49m\u001b[38;5;241;43m!=\u001b[39;49m\u001b[43m \u001b[49m\u001b[43minit_default_params\u001b[49m\u001b[43m[\u001b[49m\u001b[43mparam_name\u001b[49m\u001b[43m]\u001b[49m \u001b[38;5;129;01mand\u001b[39;00m \u001b[38;5;129;01mnot\u001b[39;00m (\n\u001b[0;32m    297\u001b[0m     is_scalar_nan(init_default_params[param_name])\n\u001b[0;32m    298\u001b[0m     \u001b[38;5;129;01mand\u001b[39;00m is_scalar_nan(param_value)\n\u001b[0;32m    299\u001b[0m ):\n\u001b[0;32m    300\u001b[0m     \u001b[38;5;28;01mreturn\u001b[39;00m \u001b[38;5;28;01mTrue\u001b[39;00m\n\u001b[0;32m    301\u001b[0m \u001b[38;5;28;01mreturn\u001b[39;00m \u001b[38;5;28;01mFalse\u001b[39;00m\n",
      "\u001b[1;31mValueError\u001b[0m: operands could not be broadcast together with shapes (1000,) (3,) "
     ]
    },
    {
     "ename": "ValueError",
     "evalue": "operands could not be broadcast together with shapes (1000,) (3,) ",
     "output_type": "error",
     "traceback": [
      "\u001b[1;31m---------------------------------------------------------------------------\u001b[0m",
      "\u001b[1;31mValueError\u001b[0m                                Traceback (most recent call last)",
      "File \u001b[1;32mc:\\Users\\marco\\Desktop\\Università\\PhD\\quantum_env\\Lib\\site-packages\\IPython\\core\\formatters.py:344\u001b[0m, in \u001b[0;36mBaseFormatter.__call__\u001b[1;34m(self, obj)\u001b[0m\n\u001b[0;32m    342\u001b[0m     method \u001b[38;5;241m=\u001b[39m get_real_method(obj, \u001b[38;5;28mself\u001b[39m\u001b[38;5;241m.\u001b[39mprint_method)\n\u001b[0;32m    343\u001b[0m     \u001b[38;5;28;01mif\u001b[39;00m method \u001b[38;5;129;01mis\u001b[39;00m \u001b[38;5;129;01mnot\u001b[39;00m \u001b[38;5;28;01mNone\u001b[39;00m:\n\u001b[1;32m--> 344\u001b[0m         \u001b[38;5;28;01mreturn\u001b[39;00m \u001b[43mmethod\u001b[49m\u001b[43m(\u001b[49m\u001b[43m)\u001b[49m\n\u001b[0;32m    345\u001b[0m     \u001b[38;5;28;01mreturn\u001b[39;00m \u001b[38;5;28;01mNone\u001b[39;00m\n\u001b[0;32m    346\u001b[0m \u001b[38;5;28;01melse\u001b[39;00m:\n",
      "File \u001b[1;32mc:\\Users\\marco\\Desktop\\Università\\PhD\\quantum_env\\Lib\\site-packages\\sklearn\\utils\\_repr_html\\base.py:145\u001b[0m, in \u001b[0;36mReprHTMLMixin._repr_html_inner\u001b[1;34m(self)\u001b[0m\n\u001b[0;32m    140\u001b[0m \u001b[38;5;28;01mdef\u001b[39;00m \u001b[38;5;21m_repr_html_inner\u001b[39m(\u001b[38;5;28mself\u001b[39m):\n\u001b[0;32m    141\u001b[0m \u001b[38;5;250m    \u001b[39m\u001b[38;5;124;03m\"\"\"This function is returned by the @property `_repr_html_` to make\u001b[39;00m\n\u001b[0;32m    142\u001b[0m \u001b[38;5;124;03m    `hasattr(estimator, \"_repr_html_\") return `True` or `False` depending\u001b[39;00m\n\u001b[0;32m    143\u001b[0m \u001b[38;5;124;03m    on `get_config()[\"display\"]`.\u001b[39;00m\n\u001b[0;32m    144\u001b[0m \u001b[38;5;124;03m    \"\"\"\u001b[39;00m\n\u001b[1;32m--> 145\u001b[0m     \u001b[38;5;28;01mreturn\u001b[39;00m \u001b[38;5;28;43mself\u001b[39;49m\u001b[38;5;241;43m.\u001b[39;49m\u001b[43m_html_repr\u001b[49m\u001b[43m(\u001b[49m\u001b[43m)\u001b[49m\n",
      "File \u001b[1;32mc:\\Users\\marco\\Desktop\\Università\\PhD\\quantum_env\\Lib\\site-packages\\sklearn\\utils\\_repr_html\\estimator.py:480\u001b[0m, in \u001b[0;36mestimator_html_repr\u001b[1;34m(estimator)\u001b[0m\n\u001b[0;32m    469\u001b[0m html_template \u001b[38;5;241m=\u001b[39m (\n\u001b[0;32m    470\u001b[0m     \u001b[38;5;124mf\u001b[39m\u001b[38;5;124m\"\u001b[39m\u001b[38;5;124m<style>\u001b[39m\u001b[38;5;132;01m{\u001b[39;00mstyle_with_id\u001b[38;5;132;01m}\u001b[39;00m\u001b[38;5;124m</style>\u001b[39m\u001b[38;5;124m\"\u001b[39m\n\u001b[0;32m    471\u001b[0m     \u001b[38;5;124mf\u001b[39m\u001b[38;5;124m\"\u001b[39m\u001b[38;5;124m<body>\u001b[39m\u001b[38;5;124m\"\u001b[39m\n\u001b[1;32m   (...)\u001b[0m\n\u001b[0;32m    476\u001b[0m     \u001b[38;5;124m'\u001b[39m\u001b[38;5;124m<div class=\u001b[39m\u001b[38;5;124m\"\u001b[39m\u001b[38;5;124msk-container\u001b[39m\u001b[38;5;124m\"\u001b[39m\u001b[38;5;124m hidden>\u001b[39m\u001b[38;5;124m'\u001b[39m\n\u001b[0;32m    477\u001b[0m )\n\u001b[0;32m    479\u001b[0m out\u001b[38;5;241m.\u001b[39mwrite(html_template)\n\u001b[1;32m--> 480\u001b[0m \u001b[43m_write_estimator_html\u001b[49m\u001b[43m(\u001b[49m\n\u001b[0;32m    481\u001b[0m \u001b[43m    \u001b[49m\u001b[43mout\u001b[49m\u001b[43m,\u001b[49m\n\u001b[0;32m    482\u001b[0m \u001b[43m    \u001b[49m\u001b[43mestimator\u001b[49m\u001b[43m,\u001b[49m\n\u001b[0;32m    483\u001b[0m \u001b[43m    \u001b[49m\u001b[43mestimator\u001b[49m\u001b[38;5;241;43m.\u001b[39;49m\u001b[38;5;18;43m__class__\u001b[39;49m\u001b[38;5;241;43m.\u001b[39;49m\u001b[38;5;18;43m__name__\u001b[39;49m\u001b[43m,\u001b[49m\n\u001b[0;32m    484\u001b[0m \u001b[43m    \u001b[49m\u001b[43mestimator_str\u001b[49m\u001b[43m,\u001b[49m\n\u001b[0;32m    485\u001b[0m \u001b[43m    \u001b[49m\u001b[43mfirst_call\u001b[49m\u001b[38;5;241;43m=\u001b[39;49m\u001b[38;5;28;43;01mTrue\u001b[39;49;00m\u001b[43m,\u001b[49m\n\u001b[0;32m    486\u001b[0m \u001b[43m    \u001b[49m\u001b[43mis_fitted_css_class\u001b[49m\u001b[38;5;241;43m=\u001b[39;49m\u001b[43mis_fitted_css_class\u001b[49m\u001b[43m,\u001b[49m\n\u001b[0;32m    487\u001b[0m \u001b[43m    \u001b[49m\u001b[43mis_fitted_icon\u001b[49m\u001b[38;5;241;43m=\u001b[39;49m\u001b[43mis_fitted_icon\u001b[49m\u001b[43m,\u001b[49m\n\u001b[0;32m    488\u001b[0m \u001b[43m\u001b[49m\u001b[43m)\u001b[49m\n\u001b[0;32m    489\u001b[0m \u001b[38;5;28;01mwith\u001b[39;00m \u001b[38;5;28mopen\u001b[39m(\u001b[38;5;28mstr\u001b[39m(Path(\u001b[38;5;18m__file__\u001b[39m)\u001b[38;5;241m.\u001b[39mparent \u001b[38;5;241m/\u001b[39m \u001b[38;5;124m\"\u001b[39m\u001b[38;5;124mestimator.js\u001b[39m\u001b[38;5;124m\"\u001b[39m), \u001b[38;5;124m\"\u001b[39m\u001b[38;5;124mr\u001b[39m\u001b[38;5;124m\"\u001b[39m) \u001b[38;5;28;01mas\u001b[39;00m f:\n\u001b[0;32m    490\u001b[0m     script \u001b[38;5;241m=\u001b[39m f\u001b[38;5;241m.\u001b[39mread()\n",
      "File \u001b[1;32mc:\\Users\\marco\\Desktop\\Università\\PhD\\quantum_env\\Lib\\site-packages\\sklearn\\utils\\_repr_html\\estimator.py:386\u001b[0m, in \u001b[0;36m_write_estimator_html\u001b[1;34m(out, estimator, estimator_label, estimator_label_details, is_fitted_css_class, is_fitted_icon, first_call, param_prefix)\u001b[0m\n\u001b[0;32m    384\u001b[0m \u001b[38;5;28;01melif\u001b[39;00m est_block\u001b[38;5;241m.\u001b[39mkind \u001b[38;5;241m==\u001b[39m \u001b[38;5;124m\"\u001b[39m\u001b[38;5;124msingle\u001b[39m\u001b[38;5;124m\"\u001b[39m:\n\u001b[0;32m    385\u001b[0m     \u001b[38;5;28;01mif\u001b[39;00m \u001b[38;5;28mhasattr\u001b[39m(estimator, \u001b[38;5;124m\"\u001b[39m\u001b[38;5;124m_get_params_html\u001b[39m\u001b[38;5;124m\"\u001b[39m):\n\u001b[1;32m--> 386\u001b[0m         params \u001b[38;5;241m=\u001b[39m \u001b[43mestimator\u001b[49m\u001b[38;5;241;43m.\u001b[39;49m\u001b[43m_get_params_html\u001b[49m\u001b[43m(\u001b[49m\u001b[43m)\u001b[49m\u001b[38;5;241m.\u001b[39m_repr_html_inner()\n\u001b[0;32m    387\u001b[0m     \u001b[38;5;28;01melse\u001b[39;00m:\n\u001b[0;32m    388\u001b[0m         params \u001b[38;5;241m=\u001b[39m \u001b[38;5;124m\"\u001b[39m\u001b[38;5;124m\"\u001b[39m\n",
      "File \u001b[1;32mc:\\Users\\marco\\Desktop\\Università\\PhD\\quantum_env\\Lib\\site-packages\\sklearn\\base.py:310\u001b[0m, in \u001b[0;36mBaseEstimator._get_params_html\u001b[1;34m(self, deep)\u001b[0m\n\u001b[0;32m    306\u001b[0m ordered_out \u001b[38;5;241m=\u001b[39m {name: out[name] \u001b[38;5;28;01mfor\u001b[39;00m name \u001b[38;5;129;01min\u001b[39;00m init_default_params \u001b[38;5;28;01mif\u001b[39;00m name \u001b[38;5;129;01min\u001b[39;00m out}\n\u001b[0;32m    307\u001b[0m ordered_out\u001b[38;5;241m.\u001b[39mupdate({name: out[name] \u001b[38;5;28;01mfor\u001b[39;00m name \u001b[38;5;129;01min\u001b[39;00m remaining_params})\n\u001b[0;32m    309\u001b[0m non_default_ls \u001b[38;5;241m=\u001b[39m \u001b[38;5;28mtuple\u001b[39m(\n\u001b[1;32m--> 310\u001b[0m     [name \u001b[38;5;28;01mfor\u001b[39;00m name, value \u001b[38;5;129;01min\u001b[39;00m ordered_out\u001b[38;5;241m.\u001b[39mitems() \u001b[38;5;28;01mif\u001b[39;00m \u001b[43mis_non_default\u001b[49m\u001b[43m(\u001b[49m\u001b[43mname\u001b[49m\u001b[43m,\u001b[49m\u001b[43m \u001b[49m\u001b[43mvalue\u001b[49m\u001b[43m)\u001b[49m]\n\u001b[0;32m    311\u001b[0m )\n\u001b[0;32m    313\u001b[0m \u001b[38;5;28;01mreturn\u001b[39;00m ParamsDict(ordered_out, non_default\u001b[38;5;241m=\u001b[39mnon_default_ls)\n",
      "File \u001b[1;32mc:\\Users\\marco\\Desktop\\Università\\PhD\\quantum_env\\Lib\\site-packages\\sklearn\\base.py:296\u001b[0m, in \u001b[0;36mBaseEstimator._get_params_html.<locals>.is_non_default\u001b[1;34m(param_name, param_value)\u001b[0m\n\u001b[0;32m    291\u001b[0m \u001b[38;5;28;01mif\u001b[39;00m \u001b[38;5;28misinstance\u001b[39m(param_value, BaseEstimator) \u001b[38;5;129;01mand\u001b[39;00m \u001b[38;5;28mtype\u001b[39m(param_value) \u001b[38;5;129;01mis\u001b[39;00m \u001b[38;5;129;01mnot\u001b[39;00m \u001b[38;5;28mtype\u001b[39m(\n\u001b[0;32m    292\u001b[0m     init_default_params[param_name]\n\u001b[0;32m    293\u001b[0m ):\n\u001b[0;32m    294\u001b[0m     \u001b[38;5;28;01mreturn\u001b[39;00m \u001b[38;5;28;01mTrue\u001b[39;00m\n\u001b[1;32m--> 296\u001b[0m \u001b[38;5;28;01mif\u001b[39;00m \u001b[43mparam_value\u001b[49m\u001b[43m \u001b[49m\u001b[38;5;241;43m!=\u001b[39;49m\u001b[43m \u001b[49m\u001b[43minit_default_params\u001b[49m\u001b[43m[\u001b[49m\u001b[43mparam_name\u001b[49m\u001b[43m]\u001b[49m \u001b[38;5;129;01mand\u001b[39;00m \u001b[38;5;129;01mnot\u001b[39;00m (\n\u001b[0;32m    297\u001b[0m     is_scalar_nan(init_default_params[param_name])\n\u001b[0;32m    298\u001b[0m     \u001b[38;5;129;01mand\u001b[39;00m is_scalar_nan(param_value)\n\u001b[0;32m    299\u001b[0m ):\n\u001b[0;32m    300\u001b[0m     \u001b[38;5;28;01mreturn\u001b[39;00m \u001b[38;5;28;01mTrue\u001b[39;00m\n\u001b[0;32m    301\u001b[0m \u001b[38;5;28;01mreturn\u001b[39;00m \u001b[38;5;28;01mFalse\u001b[39;00m\n",
      "\u001b[1;31mValueError\u001b[0m: operands could not be broadcast together with shapes (1000,) (3,) "
     ]
    },
    {
     "data": {
      "text/plain": [
       "RidgeCV(alphas=array([1.00000000e-09, 1.02804473e-09, 1.05687597e-09, 1.08651577e-09,\n",
       "       1.11698682e-09, 1.14831241e-09, 1.18051653e-09, 1.21362380e-09,\n",
       "       1.24765955e-09, 1.28264983e-09, 1.31862140e-09, 1.35560179e-09,\n",
       "       1.39361927e-09, 1.43270295e-09, 1.47288272e-09, 1.51418933e-09,\n",
       "       1.55665436e-09, 1.60031031e-09, 1.64519059e-09, 1.69132952e-09,\n",
       "       1.73876240e-09, 1.78752553e-0...\n",
       "       5.29326606e+02, 5.44171429e+02, 5.59432571e+02, 5.75121707e+02,\n",
       "       5.91250841e+02, 6.07832313e+02, 6.24878807e+02, 6.42403366e+02,\n",
       "       6.60419396e+02, 6.78940681e+02, 6.97981391e+02, 7.17556092e+02,\n",
       "       7.37679760e+02, 7.58367791e+02, 7.79636013e+02, 8.01500696e+02,\n",
       "       8.23978568e+02, 8.47086827e+02, 8.70843150e+02, 8.95265713e+02,\n",
       "       9.20373200e+02, 9.46184819e+02, 9.72720319e+02, 1.00000000e+03]))"
      ]
     },
     "execution_count": 40,
     "metadata": {},
     "output_type": "execute_result"
    }
   ],
   "source": [
    "gamma = [0.01, 0.02,0.03, 0.04, 0.05, 0.06, 0.07, 0.08, 0.09, 0.1, 0.2, 0.3, 0.4, 0.5, 0.6, 0.7, 0.8, 0.9, 1,2,3,4,5,6,7,8,9,10,12,13,14,15,16,17,18,19,20]\n",
    "ensemble = 96\n",
    "xtest = np.zeros((len(gamma), 4, ensemble, 10,150))\n",
    "xtest_real = np.zeros((len(gamma), 4, ensemble, 1500))\n",
    "\n",
    "for k in tqdm(range(len(gamma))):\n",
    "    for t in range(1,5):\n",
    "        for i in range(ensemble):\n",
    "            directory = f'Variation_Gamma/{gamma[k]}/{t}/'\n",
    "            xtest[k][t-1][i] = np.load(f'{directory}{i}_xtest.npz')['arr_0']\n",
    "            xtest_real[k][t-1] = np.load(f'{directory}{i}_xtest_real.npz')['arr_0']\n",
    "            td[k][t-1][i]\n"
   ]
  },
  {
   "cell_type": "code",
   "execution_count": 2,
   "id": "a1900550",
   "metadata": {},
   "outputs": [
    {
     "data": {
      "text/plain": [
       "'c:\\\\Users\\\\marco\\\\Desktop\\\\Università\\\\PhD\\\\Palma Projects\\\\Synchronization\\\\quantum_stuff'"
      ]
     },
     "execution_count": 2,
     "metadata": {},
     "output_type": "execute_result"
    }
   ],
   "source": [
    "import os \n",
    "os.getcwd()"
   ]
  },
  {
   "cell_type": "code",
   "execution_count": null,
   "id": "7820e5b3",
   "metadata": {},
   "outputs": [
    {
     "ename": "FileNotFoundError",
     "evalue": "[Errno 2] No such file or directory: 'c:\\\\Users\\\\marco\\\\Desktop\\\\Università\\\\PhD\\\\Palma Projects\\\\Synchronization\\\\Codici\\\\Variation_Gamma\\\\0.01\\\\0\\\\0_xtest.npz'",
     "output_type": "error",
     "traceback": [
      "\u001b[1;31m---------------------------------------------------------------------------\u001b[0m",
      "\u001b[1;31mFileNotFoundError\u001b[0m                         Traceback (most recent call last)",
      "Cell \u001b[1;32mIn[125], line 1\u001b[0m\n\u001b[1;32m----> 1\u001b[0m \u001b[43mnp\u001b[49m\u001b[38;5;241;43m.\u001b[39;49m\u001b[43mload\u001b[49m\u001b[43m(\u001b[49m\u001b[38;5;124;43mf\u001b[39;49m\u001b[38;5;124;43m'\u001b[39;49m\u001b[38;5;124;43mc:\u001b[39;49m\u001b[38;5;130;43;01m\\\\\u001b[39;49;00m\u001b[38;5;124;43mUsers\u001b[39;49m\u001b[38;5;130;43;01m\\\\\u001b[39;49;00m\u001b[38;5;124;43mmarco\u001b[39;49m\u001b[38;5;130;43;01m\\\\\u001b[39;49;00m\u001b[38;5;124;43mDesktop\u001b[39;49m\u001b[38;5;130;43;01m\\\\\u001b[39;49;00m\u001b[38;5;124;43mUniversità\u001b[39;49m\u001b[38;5;130;43;01m\\\\\u001b[39;49;00m\u001b[38;5;124;43mPhD\u001b[39;49m\u001b[38;5;130;43;01m\\\\\u001b[39;49;00m\u001b[38;5;124;43mPalma Projects\u001b[39;49m\u001b[38;5;130;43;01m\\\\\u001b[39;49;00m\u001b[38;5;124;43mSynchronization\u001b[39;49m\u001b[38;5;130;43;01m\\\\\u001b[39;49;00m\u001b[38;5;124;43mCodici\u001b[39;49m\u001b[38;5;130;43;01m\\\\\u001b[39;49;00m\u001b[38;5;124;43mVariation_Gamma\u001b[39;49m\u001b[38;5;130;43;01m\\\\\u001b[39;49;00m\u001b[38;5;132;43;01m{\u001b[39;49;00m\u001b[43mgamma\u001b[49m\u001b[43m[\u001b[49m\u001b[38;5;241;43m0\u001b[39;49m\u001b[43m]\u001b[49m\u001b[38;5;132;43;01m}\u001b[39;49;00m\u001b[38;5;130;43;01m\\\\\u001b[39;49;00m\u001b[38;5;132;43;01m{\u001b[39;49;00m\u001b[38;5;241;43m0\u001b[39;49m\u001b[38;5;132;43;01m}\u001b[39;49;00m\u001b[38;5;130;43;01m\\\\\u001b[39;49;00m\u001b[38;5;132;43;01m{\u001b[39;49;00m\u001b[38;5;241;43m0\u001b[39;49m\u001b[38;5;132;43;01m}\u001b[39;49;00m\u001b[38;5;124;43m_xtest.npz\u001b[39;49m\u001b[38;5;124;43m'\u001b[39;49m\u001b[43m)\u001b[49m[\u001b[38;5;124m'\u001b[39m\u001b[38;5;124marr_0\u001b[39m\u001b[38;5;124m'\u001b[39m]\u001b[38;5;241m.\u001b[39mshape\n",
      "File \u001b[1;32mc:\\Users\\marco\\Desktop\\Università\\PhD\\quantum_env\\Lib\\site-packages\\numpy\\lib\\_npyio_impl.py:451\u001b[0m, in \u001b[0;36mload\u001b[1;34m(file, mmap_mode, allow_pickle, fix_imports, encoding, max_header_size)\u001b[0m\n\u001b[0;32m    449\u001b[0m     own_fid \u001b[38;5;241m=\u001b[39m \u001b[38;5;28;01mFalse\u001b[39;00m\n\u001b[0;32m    450\u001b[0m \u001b[38;5;28;01melse\u001b[39;00m:\n\u001b[1;32m--> 451\u001b[0m     fid \u001b[38;5;241m=\u001b[39m stack\u001b[38;5;241m.\u001b[39menter_context(\u001b[38;5;28;43mopen\u001b[39;49m\u001b[43m(\u001b[49m\u001b[43mos\u001b[49m\u001b[38;5;241;43m.\u001b[39;49m\u001b[43mfspath\u001b[49m\u001b[43m(\u001b[49m\u001b[43mfile\u001b[49m\u001b[43m)\u001b[49m\u001b[43m,\u001b[49m\u001b[43m \u001b[49m\u001b[38;5;124;43m\"\u001b[39;49m\u001b[38;5;124;43mrb\u001b[39;49m\u001b[38;5;124;43m\"\u001b[39;49m\u001b[43m)\u001b[49m)\n\u001b[0;32m    452\u001b[0m     own_fid \u001b[38;5;241m=\u001b[39m \u001b[38;5;28;01mTrue\u001b[39;00m\n\u001b[0;32m    454\u001b[0m \u001b[38;5;66;03m# Code to distinguish from NumPy binary files and pickles.\u001b[39;00m\n",
      "\u001b[1;31mFileNotFoundError\u001b[0m: [Errno 2] No such file or directory: 'c:\\\\Users\\\\marco\\\\Desktop\\\\Università\\\\PhD\\\\Palma Projects\\\\Synchronization\\\\Codici\\\\Variation_Gamma\\\\0.01\\\\0\\\\0_xtest.npz'"
     ]
    }
   ],
   "source": []
  },
  {
   "cell_type": "code",
   "execution_count": null,
   "id": "7874395f",
   "metadata": {},
   "outputs": [
    {
     "ename": "NameError",
     "evalue": "name 'gaeqrwq' is not defined",
     "output_type": "error",
     "traceback": [
      "\u001b[1;31m---------------------------------------------------------------------------\u001b[0m",
      "\u001b[1;31mNameError\u001b[0m                                 Traceback (most recent call last)",
      "Cell \u001b[1;32mIn[124], line 1\u001b[0m\n\u001b[1;32m----> 1\u001b[0m \u001b[43mgaeqrwq\u001b[49m\n",
      "\u001b[1;31mNameError\u001b[0m: name 'gaeqrwq' is not defined"
     ]
    }
   ],
   "source": [
    "\n"
   ]
  },
  {
   "cell_type": "code",
   "execution_count": 237,
   "id": "b9896ef0",
   "metadata": {},
   "outputs": [],
   "source": [
    "result = qt.mesolve(qt.Qobj(H0.toarray(), dims=[[2]*2, [2]*2]) + qt.Qobj(H1.toarray(), dims=[[2]*2, [2]*2]), qt.Qobj(state0, dims = [[2]*2, [2]*2]), np.linspace(0, 10, 100), c_ops = [qt.Qobj(cop.toarray(), dims = [[2]*2, [2]*2]) for cop in cops], e_ops = [qt.tensor(qt.sigmax(), qt.identity(2)), qt.tensor(qt.sigmay(), qt.identity(2)), qt.tensor(qt.sigmaz(), qt.identity(2)), qt.tensor(qt.identity(2), qt.sigmax()), qt.tensor(qt.identity(2), qt.sigmay()), qt.tensor(qt.identity(2), qt.sigmaz())])"
   ]
  },
  {
   "cell_type": "code",
   "execution_count": 41,
   "id": "3ba9db1e",
   "metadata": {},
   "outputs": [
    {
     "name": "stdout",
     "output_type": "stream",
     "text": [
      "RidgeCV(alphas=array([1.00000000e-09, 1.02804473e-09, 1.05687597e-09, 1.08651577e-09,\n",
      "       1.11698682e-09, 1.14831241e-09, 1.18051653e-09, 1.21362380e-09,\n",
      "       1.24765955e-09, 1.28264983e-09, 1.31862140e-09, 1.35560179e-09,\n",
      "       1.39361927e-09, 1.43270295e-09, 1.47288272e-09, 1.51418933e-09,\n",
      "       1.55665436e-09, 1.60031031e-09, 1.64519059e-09, 1.69132952e-09,\n",
      "       1.73876240e-09, 1.78752553e-0...\n",
      "       5.29326606e+02, 5.44171429e+02, 5.59432571e+02, 5.75121707e+02,\n",
      "       5.91250841e+02, 6.07832313e+02, 6.24878807e+02, 6.42403366e+02,\n",
      "       6.60419396e+02, 6.78940681e+02, 6.97981391e+02, 7.17556092e+02,\n",
      "       7.37679760e+02, 7.58367791e+02, 7.79636013e+02, 8.01500696e+02,\n",
      "       8.23978568e+02, 8.47086827e+02, 8.70843150e+02, 8.95265713e+02,\n",
      "       9.20373200e+02, 9.46184819e+02, 9.72720319e+02, 1.00000000e+03]))\n"
     ]
    }
   ],
   "source": [
    "print(ridge)"
   ]
  },
  {
   "cell_type": "code",
   "execution_count": null,
   "id": "477a57b1",
   "metadata": {},
   "outputs": [
    {
     "data": {
      "text/plain": [
       "[<matplotlib.lines.Line2D at 0x216021629c0>]"
      ]
     },
     "execution_count": 241,
     "metadata": {},
     "output_type": "execute_result"
    },
    {
     "data": {
      "image/png": "[encoded data removed]",
      "text/plain": [
       "<Figure size 640x480 with 1 Axes>"
      ]
     },
     "metadata": {},
     "output_type": "display_data"
    }
   ],
   "source": [
    "plt.plot(result.expect[2], label = \"X1\")\n",
    "plt.plot(misure[0:,2,0])"
   ]
  },
  {
   "cell_type": "code",
   "execution_count": 9,
   "id": "49a52f00",
   "metadata": {},
   "outputs": [
    {
     "data": {
      "text/plain": [
       "array([[[ 0.+0.j,  0.+0.j,  0.+0.j, ...,  0.+0.j,  0.+0.j,  0.+0.j],\n",
       "        [ 0.+0.j,  0.+0.j,  0.+0.j, ...,  0.+0.j,  0.+0.j,  0.+0.j],\n",
       "        [ 0.+0.j,  0.+0.j,  0.+0.j, ...,  0.+0.j,  0.+0.j,  0.+0.j],\n",
       "        ...,\n",
       "        [ 0.+0.j,  0.+0.j,  0.+0.j, ...,  0.+0.j,  0.+0.j,  0.+0.j],\n",
       "        [ 0.+0.j,  0.+0.j,  0.+0.j, ...,  0.+0.j,  0.+0.j,  0.+0.j],\n",
       "        [ 0.+0.j,  0.+0.j,  0.+0.j, ...,  0.+0.j,  0.+0.j,  0.+0.j]],\n",
       "\n",
       "       [[ 0.+0.j,  0.+0.j,  0.+0.j, ...,  0.+0.j,  0.+0.j,  0.+0.j],\n",
       "        [ 0.+0.j,  0.+0.j,  0.+0.j, ...,  0.+0.j,  0.+0.j,  0.+0.j],\n",
       "        [ 0.+0.j,  0.+0.j,  0.+0.j, ...,  0.+0.j,  0.+0.j,  0.+0.j],\n",
       "        ...,\n",
       "        [ 0.+0.j,  0.+0.j,  0.+0.j, ...,  0.+0.j,  0.+0.j,  0.+0.j],\n",
       "        [ 0.+0.j,  0.+0.j,  0.+0.j, ...,  0.+0.j,  0.+0.j,  0.+0.j],\n",
       "        [ 0.+0.j,  0.+0.j,  0.+0.j, ...,  0.+0.j,  0.+0.j,  0.+0.j]],\n",
       "\n",
       "       [[ 0.+0.j,  0.+0.j,  1.+0.j, ...,  0.+0.j,  0.+0.j,  0.+0.j],\n",
       "        [ 0.+0.j,  0.+0.j,  0.+0.j, ...,  0.+0.j,  0.+0.j,  0.+0.j],\n",
       "        [ 1.+0.j,  0.+0.j,  0.+0.j, ...,  0.+0.j,  0.+0.j,  0.+0.j],\n",
       "        ...,\n",
       "        [ 0.+0.j,  0.+0.j,  0.+0.j, ...,  0.+0.j,  0.+0.j,  1.+0.j],\n",
       "        [ 0.+0.j,  0.+0.j,  0.+0.j, ...,  0.+0.j,  0.+0.j,  0.+0.j],\n",
       "        [ 0.+0.j,  0.+0.j,  0.+0.j, ...,  1.+0.j,  0.+0.j,  0.+0.j]],\n",
       "\n",
       "       ...,\n",
       "\n",
       "       [[ 1.+0.j,  0.+0.j,  0.+0.j, ...,  0.+0.j,  0.+0.j,  0.+0.j],\n",
       "        [ 0.+0.j,  1.+0.j,  0.+0.j, ...,  0.+0.j,  0.+0.j,  0.+0.j],\n",
       "        [ 0.+0.j,  0.+0.j,  1.+0.j, ...,  0.+0.j,  0.+0.j,  0.+0.j],\n",
       "        ...,\n",
       "        [ 0.+0.j,  0.+0.j,  0.+0.j, ..., -1.+0.j, -0.+0.j, -0.+0.j],\n",
       "        [ 0.+0.j,  0.+0.j,  0.+0.j, ..., -0.+0.j, -1.+0.j, -0.+0.j],\n",
       "        [ 0.+0.j,  0.+0.j,  0.+0.j, ..., -0.+0.j, -0.+0.j, -1.+0.j]],\n",
       "\n",
       "       [[ 1.+0.j,  0.+0.j,  0.+0.j, ...,  0.+0.j,  0.+0.j,  0.+0.j],\n",
       "        [ 0.+0.j,  1.+0.j,  0.+0.j, ...,  0.+0.j,  0.+0.j,  0.+0.j],\n",
       "        [ 0.+0.j,  0.+0.j, -1.+0.j, ...,  0.+0.j, -0.+0.j, -0.+0.j],\n",
       "        ...,\n",
       "        [ 0.+0.j,  0.+0.j,  0.+0.j, ...,  1.+0.j,  0.+0.j,  0.+0.j],\n",
       "        [ 0.+0.j,  0.+0.j, -0.+0.j, ...,  0.+0.j, -1.+0.j, -0.+0.j],\n",
       "        [ 0.+0.j,  0.+0.j, -0.+0.j, ...,  0.+0.j, -0.+0.j, -1.+0.j]],\n",
       "\n",
       "       [[ 1.+0.j,  0.+0.j,  0.+0.j, ...,  0.+0.j,  0.+0.j,  0.+0.j],\n",
       "        [ 0.+0.j, -1.+0.j,  0.+0.j, ..., -0.+0.j,  0.+0.j, -0.+0.j],\n",
       "        [ 0.+0.j,  0.+0.j,  1.+0.j, ...,  0.+0.j,  0.+0.j,  0.+0.j],\n",
       "        ...,\n",
       "        [ 0.+0.j, -0.+0.j,  0.+0.j, ..., -1.+0.j,  0.+0.j, -0.+0.j],\n",
       "        [ 0.+0.j,  0.+0.j,  0.+0.j, ...,  0.+0.j,  1.+0.j,  0.+0.j],\n",
       "        [ 0.+0.j, -0.+0.j,  0.+0.j, ..., -0.+0.j,  0.+0.j, -1.+0.j]]],\n",
       "      shape=(12, 16, 16))"
      ]
     },
     "execution_count": 9,
     "metadata": {},
     "output_type": "execute_result"
    }
   ],
   "source": [
    "np.array([qs.local_operators(qs.sigmax(), Nq), qs.local_operators(qs.sigmay(), Nq), qs.local_operators(qs.sigmaz(), Nq)]).reshape(12, 16,16)"
   ]
  },
  {
   "cell_type": "code",
   "execution_count": null,
   "id": "fb95008c",
   "metadata": {},
   "outputs": [
    {
     "ename": "AttributeError",
     "evalue": "module 'QuantumStuff' has no attribute 'local_operator'",
     "output_type": "error",
     "traceback": [
      "\u001b[1;31m---------------------------------------------------------------------------\u001b[0m",
      "\u001b[1;31mAttributeError\u001b[0m                            Traceback (most recent call last)",
      "Cell \u001b[1;32mIn[4], line 2\u001b[0m\n\u001b[0;32m      1\u001b[0m state \u001b[38;5;241m=\u001b[39m qs\u001b[38;5;241m.\u001b[39mzero(dm \u001b[38;5;241m=\u001b[39m \u001b[38;5;28;01mTrue\u001b[39;00m, N \u001b[38;5;241m=\u001b[39m \u001b[38;5;241m4\u001b[39m)\n\u001b[1;32m----> 2\u001b[0m H1 \u001b[38;5;241m=\u001b[39m \u001b[43mqs\u001b[49m\u001b[38;5;241;43m.\u001b[39;49m\u001b[43mlocal_operator\u001b[49m()\n\u001b[0;32m      3\u001b[0m H0 \u001b[38;5;241m=\u001b[39m qs\u001b[38;5;241m.\u001b[39msigmaz()\n\u001b[0;32m      4\u001b[0m cops \u001b[38;5;241m=\u001b[39m []\n",
      "\u001b[1;31mAttributeError\u001b[0m: module 'QuantumStuff' has no attribute 'local_operator'"
     ]
    }
   ],
   "source": [
    "state = qs.zero(dm = True, N = 4)\n",
    "H0 = qs.sigmaz()\n",
    "cops = []\n",
    "state_t = qs.QRC.CD_evolution(np.random.random((100)), H1, H0, 0.1, 100, state)"
   ]
  },
  {
   "cell_type": "code",
   "execution_count": null,
   "id": "c78306b8",
   "metadata": {},
   "outputs": [],
   "source": []
  },
  {
   "cell_type": "code",
   "execution_count": null,
   "id": "bc34f8cf",
   "metadata": {},
   "outputs": [
    {
     "data": {
      "text/plain": [
       "array([2.37654684])"
      ]
     },
     "execution_count": 667,
     "metadata": {},
     "output_type": "execute_result"
    }
   ],
   "source": [
    "import warnings\n",
    "\n",
    "import warnings\n",
    "\n",
    "warnings.filterwarnings(\n",
    "    action='ignore',\n",
    "    category=RuntimeWarning,\n",
    "    message=r'.*invalid value encountered in log2.*'\n",
    ")\n",
    "\n",
    "def von_neumann_entropy(state: np.ndarray):\n",
    "    \"\"\"\n",
    "    Calculate the von Neumann entropy of a quantum state.\n",
    "    The von Neumann entropy is defined as:\n",
    "        S(ρ) = -Tr(ρ log2(ρ))\n",
    "\n",
    "    where ρ is the density matrix of the quantum state.\n",
    "    Args:\n",
    "        state (np.ndarray): The quantum state, can be a density matrix or a pure state.\n",
    "        ax (int): Axis along which to compute the entropy. Default is -1.\n",
    "    Returns:\n",
    "        np.ndarray: The von Neumann entropy of the state.\n",
    "    \"\"\"\n",
    "\n",
    "    check = qs.is_state(state)\n",
    "    if not check[1]:\n",
    "        raise Exception(\"Input is not a valid quantum state\")\n",
    "    if check[0] != 3:\n",
    "        state = qs.ket_to_dm(state)\n",
    "\n",
    "    state = np.asarray(state, dtype = complex)\n",
    "\n",
    "    eigs = np.linalg.eigvalsh(state)\n",
    "    entropy = np.sum(-eigs * np.log2(eigs), axis = -1)\n",
    "    if np.shape(entropy) == ():\n",
    "        entropy = np.array([entropy])\n",
    "    entropy[np.where(np.isnan(entropy))] = 0\n",
    "    return entropy\n",
    "\n",
    "state = qs.random_qubit(3, pure = False, dm = True) \n",
    "von_neumann_entropy(state)"
   ]
  },
  {
   "cell_type": "code",
   "execution_count": 558,
   "id": "d70c8a42",
   "metadata": {},
   "outputs": [
    {
     "data": {
      "text/plain": [
       "array([ True,  True,  True,  True,  True,  True,  True,  True,  True,\n",
       "        True])"
      ]
     },
     "execution_count": 558,
     "metadata": {},
     "output_type": "execute_result"
    }
   ],
   "source": [
    "state = [qs.random_qubit(3, pure = True, dm = True) for i in range(10)]\n",
    "\n",
    "np.any(np.isclose(np.linalg.eigvalsh(state), 1), axis = -1)"
   ]
  },
  {
   "cell_type": "code",
   "execution_count": 228,
   "id": "c2eca160",
   "metadata": {},
   "outputs": [],
   "source": [
    "H_test = np.sum([[J[i,j]*np.dot(z[i],z[j] )for i in range(3)] for j in range(3)], axis = (0,1))"
   ]
  },
  {
   "cell_type": "code",
   "execution_count": 229,
   "id": "f98b9d6b",
   "metadata": {},
   "outputs": [
    {
     "data": {
      "text/plain": [
       "True"
      ]
     },
     "execution_count": 229,
     "metadata": {},
     "output_type": "execute_result"
    }
   ],
   "source": [
    "np.allclose(H,H_test)"
   ]
  },
  {
   "cell_type": "code",
   "execution_count": 11,
   "id": "8f2cd067",
   "metadata": {},
   "outputs": [
    {
     "data": {
      "text/plain": [
       "(3, True)"
      ]
     },
     "execution_count": 11,
     "metadata": {},
     "output_type": "execute_result"
    }
   ],
   "source": [
    "state = [qs.random_qubit(4, pure = True, dm = True) for i in range(10)]\n",
    "qs.is_state(state)"
   ]
  },
  {
   "cell_type": "code",
   "execution_count": 5,
   "id": "877a7d94",
   "metadata": {},
   "outputs": [
    {
     "name": "stderr",
     "output_type": "stream",
     "text": [
      "100%|██████████| 5/5 [00:00<00:00, 714.09it/s]\n"
     ]
    },
    {
     "data": {
      "text/plain": [
       "array([[[0.88563915-3.69494902e-26j, 0.01432705+1.46380481e-01j],\n",
       "        [0.01432705-1.46380481e-01j, 0.11436085+3.73647723e-26j]],\n",
       "\n",
       "       [[0.75999731-3.00523769e-26j, 0.04775592+2.40364020e-01j],\n",
       "        [0.04775592-2.40364020e-01j, 0.24000269+3.38090441e-26j]],\n",
       "\n",
       "       [[0.63323971-1.42454260e-19j, 0.08810637+2.90456364e-01j],\n",
       "        [0.08810637-2.90456364e-01j, 0.36676029+1.46690436e-19j]],\n",
       "\n",
       "       [[0.52064962-7.48714072e-19j, 0.12576854+2.93737455e-01j],\n",
       "        [0.12576854-2.93737455e-01j, 0.47935038+7.60588079e-19j]],\n",
       "\n",
       "       [[0.42013505-1.86174175e-18j, 0.15307276+2.53030154e-01j],\n",
       "        [0.15307276-2.53030154e-01j, 0.57986495+1.94392272e-18j]]])"
      ]
     },
     "execution_count": 5,
     "metadata": {},
     "output_type": "execute_result"
    }
   ],
   "source": [
    "qs.CD_evolution(np.random.random(10),qs.sigmax(), qs.sigmaz(), [qs.sigmay()], 0.1,  5, ρ = None, disable_progress_bar = False)"
   ]
  },
  {
   "cell_type": "code",
   "execution_count": 79,
   "id": "c527e4cb",
   "metadata": {},
   "outputs": [
    {
     "data": {
      "text/plain": [
       "(10, 3, 4)"
      ]
     },
     "execution_count": 79,
     "metadata": {},
     "output_type": "execute_result"
    }
   ],
   "source": [
    "state = qs.random_qubit(4, pure = True, dm = True)\n",
    "meas = measure([state]*10, [qs.sigmax()]*3)\n",
    "measure2 = qs.measure(state, [np.kron(qs.sigmaz(), qs.sigmaz())]*5)\n",
    "meas.shape"
   ]
  },
  {
   "cell_type": "code",
   "execution_count": 11,
   "id": "ccd84d1f",
   "metadata": {},
   "outputs": [
    {
     "data": {
      "text/plain": [
       "(2, 3, 4, 4)"
      ]
     },
     "execution_count": 11,
     "metadata": {},
     "output_type": "execute_result"
    }
   ],
   "source": [
    "a = np.random.random((2,4,4))\n",
    "b = np.random.random((3,4,4))\n",
    "(a[:, np.newaxis]@b[np.newaxis,:]).shape"
   ]
  },
  {
   "cell_type": "code",
   "execution_count": 3,
   "id": "50f4e37d",
   "metadata": {},
   "outputs": [
    {
     "name": "stderr",
     "output_type": "stream",
     "text": [
      "100%|██████████| 30/30 [00:01<00:00, 22.93it/s]\n"
     ]
    }
   ],
   "source": [
    "from tqdm import tqdm\n",
    "N = 5\n",
    "Js = 1\n",
    "J = qso.random_coupling(Js, N)\n",
    "X = qs.local_operators(qs.sigmax(), N)\n",
    "Z = qs.local_operators(qs.sigmaz(), N)\n",
    "h = 0.1\n",
    "H0 = np.sum(qso.interaction(X, J) + h*Z ,0)\n",
    "H1 = h*np.sum(X,0)\n",
    "stato = qs.random_qubit(N, pure = True, dm = True)\n",
    "ρ = stato\n",
    "σm = qs.local_operators(qs.sigmam(), N)\n",
    "\n",
    "states = []\n",
    "dt = 10/370\n",
    "ρt = np.zeros((370,2**N,2**N), dtype = complex)\n",
    "    \n",
    "sh = sp.csc_matrix(qso.Super_H(H0), dtype = complex)\n",
    "sd = sp.csc_matrix(qso.Super_D(σm), dtype = complex)\n",
    "\n",
    "def Lindblad_Propagator(SH: np.ndarray | sp.csc_matrix, SD: np.ndarray | sp.csc_matrix, dt: float, ρ: np.ndarray):\n",
    "    \"\"\"\n",
    "    Lindblad propagator for Lindblad equation\n",
    "    :L: super operator\n",
    "    :dt: time step\n",
    "    :ρ: density matrix\n",
    "    :return: propagated density matrix\n",
    "    \"\"\"\n",
    "    L = SH + SD\n",
    "    is_sparse = type(L) == sp.csc_matrix or sp.csc_array\n",
    "    if ρ.ndim != 1:\n",
    "        ρ = ρ.flatten()\n",
    "    if is_sparse:\n",
    "        return expm_multiply(L, ρ, start = 0 , stop = dt, num = 2)[-1]\n",
    "    else:\n",
    "        return expm(L * dt) @ ρ\n",
    "    \n",
    "def CD_evolution(sk: np.ndarray, H1: np.ndarray | sp.csc_matrix | sp.csc_array, H0: np.ndarray | sp.csc_matrix | sp.csc_array, c_ops: list, δt: float,  steps: int, ρ = None):\n",
    "    #Evolution\n",
    "    Nq = int(np.log2(H0.shape[0]))\n",
    "    superd = sp.csc_matrix(qso.Super_D(c_ops), dtype = complex)\n",
    "    if ρ is None:\n",
    "        ρ = qso.zero(dm = True, N = Nq)\n",
    "    ρt = np.zeros((steps, 2**Nq, 2**Nq), dtype = complex)\n",
    "    for i in tqdm(range(steps)):\n",
    "        superh = sp.csc_matrix(qso.Super_H(H0 + (sk[i] + 1)*H1), dtype = complex)\n",
    "        ρt[i] = Lindblad_Propagator(superh, superd, δt, ρ).reshape(2**Nq, 2**Nq)\n",
    "        ρ = ρt[i]\n",
    "\n",
    "    return ρt\n",
    "sk = np.random.random(30)\n",
    "ρt = CD_evolution(sk, H1, H0, σm, dt, 30, stato)\n",
    "states = (qs.measure(ρt, qs.sigmaz()))"
   ]
  },
  {
   "cell_type": "code",
   "execution_count": 37,
   "id": "9111aa0e",
   "metadata": {},
   "outputs": [
    {
     "name": "stderr",
     "output_type": "stream",
     "text": [
      "100%|██████████| 10/10 [00:00<00:00, 1575.21it/s]"
     ]
    },
    {
     "name": "stdout",
     "output_type": "stream",
     "text": [
      "0\n",
      "1\n",
      "2\n",
      "3\n",
      "4\n",
      "5\n",
      "6\n",
      "7\n",
      "8\n",
      "9\n"
     ]
    },
    {
     "name": "stderr",
     "output_type": "stream",
     "text": [
      "\n"
     ]
    }
   ],
   "source": [
    "for i in tqdm(range(10),disable=False):\n",
    "    print(i)\n"
   ]
  },
  {
   "cell_type": "code",
   "execution_count": 35,
   "id": "13d38af0",
   "metadata": {},
   "outputs": [
    {
     "data": {
      "text/plain": [
       "(3, True)"
      ]
     },
     "execution_count": 35,
     "metadata": {},
     "output_type": "execute_result"
    }
   ],
   "source": [
    "state = qs.random_qubit(4, pure = True, dm = False)\n",
    "qs.is_state(evolve_unitary(U, state))"
   ]
  },
  {
   "cell_type": "code",
   "execution_count": 13,
   "id": "30cc95ae",
   "metadata": {},
   "outputs": [
    {
     "data": {
      "text/plain": [
       "(3, True)"
      ]
     },
     "execution_count": 13,
     "metadata": {},
     "output_type": "execute_result"
    }
   ],
   "source": [
    "U = qs.haar_random_unitary(4)\n",
    "state = np.array([qs.random_qubit(4, pure = True, dm = True) for i in range(5)])\n",
    "qs.is_state(U@state@qs.dag(U))"
   ]
  },
  {
   "cell_type": "code",
   "execution_count": null,
   "id": "2cb1629d",
   "metadata": {},
   "outputs": [
    {
     "data": {
      "text/plain": [
       "(80, 80)"
      ]
     },
     "execution_count": 20,
     "metadata": {},
     "output_type": "execute_result"
    }
   ],
   "source": [
    "state = np.array([qs.random_qubit(4, pure = True, dm = False) for i in range(5)])\n",
    "np.outer(state, qs.dag(state))"
   ]
  },
  {
   "cell_type": "code",
   "execution_count": 22,
   "id": "749ac59e",
   "metadata": {},
   "outputs": [
    {
     "name": "stdout",
     "output_type": "stream",
     "text": [
      "porcodio\n"
     ]
    }
   ],
   "source": [
    "rho = np.array(qs.random_qubit(4, pure = True, dm = False) )\n",
    "if rho.ndim == 1 or (rho.shape[0] != rho.shape[1] and rho.ndim == 2):\n",
    "    print('porcodio')\n",
    "    rho = qs.ket_to_dm(rho)\n"
   ]
  },
  {
   "cell_type": "code",
   "execution_count": 3,
   "id": "78207c77",
   "metadata": {},
   "outputs": [],
   "source": [
    "state_ivp = qs.evolve_lindblad(stato, H, np.arange(0, 10, 10/370), c_ops = σm)"
   ]
  },
  {
   "cell_type": "code",
   "execution_count": null,
   "id": "bd507f5f",
   "metadata": {},
   "outputs": [
    {
     "data": {
      "text/plain": [
       "array([0.])"
      ]
     },
     "execution_count": 40,
     "metadata": {},
     "output_type": "execute_result"
    }
   ],
   "source": [
    "[0,dt]"
   ]
  },
  {
   "cell_type": "code",
   "execution_count": 61,
   "id": "b817a239",
   "metadata": {},
   "outputs": [
    {
     "name": "stderr",
     "output_type": "stream",
     "text": [
      "100%|██████████| 30/30 [01:00<00:00,  2.01s/it]\n"
     ]
    }
   ],
   "source": [
    "c_ops = [qt.Qobj(c, dims = [[2 for i in range(N)] for j in range(2)]) for c in σm]\n",
    "eops = [qt.Qobj(e, dims = [[2 for i in range(N)] for j in range(2)]) for e in (Z)]\n",
    "H0 = qt.Qobj(H0, dims = [[2 for i in range(N)] for j in range(2)])\n",
    "H1 = qt.Qobj(H1, dims = [[2 for i in range(N)] for j in range(2)])\n",
    "\n",
    "stato = qt.Qobj(stato, dims = [[2 for i in range(N)] for j in range(2)])\n",
    "state_qutip = np.zeros((30,5), dtype = complex)\n",
    "for k in tqdm(range(30)):\n",
    "    state_update = qt.mesolve(H0 + (1+sk[k])*H1, stato, [0,dt], c_ops = c_ops, e_ops = eops, options = {'store_final_state': True})\n",
    "    stato = state_update.final_state\n",
    "    state_qutip[k] = np.array(state_update.expect)[:,-1]"
   ]
  },
  {
   "cell_type": "code",
   "execution_count": 57,
   "id": "2e528233",
   "metadata": {},
   "outputs": [
    {
     "data": {
      "text/plain": [
       "array([-0.19260371, -0.20577622,  0.10719096,  0.01785502, -0.05879561])"
      ]
     },
     "execution_count": 57,
     "metadata": {},
     "output_type": "execute_result"
    }
   ],
   "source": [
    "np.array(state_update.expect)[:,-1]"
   ]
  },
  {
   "cell_type": "code",
   "execution_count": 14,
   "id": "62d6f9d7",
   "metadata": {},
   "outputs": [],
   "source": [
    "m_qtp = state_qutip.expect"
   ]
  },
  {
   "cell_type": "code",
   "execution_count": 6,
   "id": "49e0320a",
   "metadata": {},
   "outputs": [],
   "source": [
    "state_ivp = state_ivp.T.reshape(370, 2**5, 2**5)\n"
   ]
  },
  {
   "cell_type": "code",
   "execution_count": 35,
   "id": "8c7f9f11",
   "metadata": {},
   "outputs": [
    {
     "data": {
      "text/plain": [
       "(370, 32, 32)"
      ]
     },
     "execution_count": 35,
     "metadata": {},
     "output_type": "execute_result"
    }
   ],
   "source": [
    "state_qutip.shape"
   ]
  },
  {
   "cell_type": "code",
   "execution_count": 62,
   "id": "aa6d6e69",
   "metadata": {},
   "outputs": [],
   "source": [
    "# m_ivp = qs.measure(state_ivp, qs.sigmax())\n",
    "m_qso = qs.measure(ρt, qs.sigmaz())\n",
    "# m_qutip = qs.measure(state_qutip, qs.sigmaz())\n"
   ]
  },
  {
   "cell_type": "code",
   "execution_count": 64,
   "id": "b865abd5",
   "metadata": {},
   "outputs": [
    {
     "data": {
      "text/plain": [
       "[<matplotlib.lines.Line2D at 0x1a305e73a10>]"
      ]
     },
     "execution_count": 64,
     "metadata": {},
     "output_type": "execute_result"
    },
    {
     "data": {
      "image/png": "[encoded data removed]",
      "text/plain": [
       "<Figure size 640x480 with 1 Axes>"
      ]
     },
     "metadata": {},
     "output_type": "display_data"
    }
   ],
   "source": [
    "import matplotlib.pyplot as plt\n",
    "\n",
    "# plt.plot(m_ivp[:,0,0],'.')\n",
    "plt.plot(states[:,0,1])\n",
    "# plt.plot(m_qutip[0,0,:,0],'.')\n",
    "plt.plot(np.array(state_qutip)[:,1],'--')"
   ]
  },
  {
   "cell_type": "code",
   "execution_count": 36,
   "id": "e3dc61ee",
   "metadata": {},
   "outputs": [
    {
     "data": {
      "text/plain": [
       "(370, 1, 5)"
      ]
     },
     "execution_count": 36,
     "metadata": {},
     "output_type": "execute_result"
    }
   ],
   "source": [
    "np.array(m_qso).shape"
   ]
  }
 ],
 "metadata": {
  "kernelspec": {
   "display_name": "quantum_env",
   "language": "python",
   "name": "python3"
  },
  "language_info": {
   "codemirror_mode": {
    "name": "ipython",
    "version": 3
   },
   "file_extension": ".py",
   "mimetype": "text/x-python",
   "name": "python",
   "nbconvert_exporter": "python",
   "pygments_lexer": "ipython3",
   "version": "3.12.8"
  }
 },
 "nbformat": 4,
 "nbformat_minor": 5
}
