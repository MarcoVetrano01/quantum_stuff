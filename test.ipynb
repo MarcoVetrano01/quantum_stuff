{
 "cells": [
  {
   "cell_type": "code",
   "execution_count": 16,
   "id": "2d4a1f40",
   "metadata": {},
   "outputs": [],
   "source": [
    "import numpy as np\n",
    "import qutip as qt\n",
    "import QuantumStuff as qs\n",
    "import scipy.sparse as sp\n",
    "from scipy.sparse.linalg import expm_multiply\n",
    "from scipy.sparse import csc_matrix, csc_array"
   ]
  },
  {
   "cell_type": "code",
   "execution_count": null,
   "id": "d7e26596",
   "metadata": {},
   "outputs": [],
   "source": [
    "from tqdm import tqdm\n",
    "def Super_D(c_ops = []):\n",
    "    \"\"\"\n",
    "    Super operator for Lindblad equation\n",
    "    :c_ops: list of collapse operators multiplied by their decay rates\n",
    "    :return: super dissipator\n",
    "    \"\"\"\n",
    "    if len(c_ops) == 0:\n",
    "        return None\n",
    "    N = np.shape(c_ops[0])[1]\n",
    "    is_sparse = isinstance(c_ops[0], (csc_matrix, csc_array))\n",
    "    if is_sparse:\n",
    "        SI = csc_matrix(np.eye(N))\n",
    "        N2 = N*N\n",
    "        superd = csc_matrix((N2, N2), dtype=complex)\n",
    "        for c in c_ops:\n",
    "            LL = dag(c).dot(c)\n",
    "            superd += (kron(c.conj(), c) - 0.5 * (kron(SI, LL) + kron(LL, SI)))\n",
    "            superd = csc_matrix(superd)\n",
    "    else:\n",
    "        SI = np.eye(N)\n",
    "        superd = 0\n",
    "        \n",
    "        for c in c_ops:\n",
    "            LL = dag(c)@c\n",
    "            superd += (np.kron(c.conj(), c)-0.5*(np.kron(SI,LL) + np.kron(LL, SI)))\n",
    "    return superd\n",
    "\n",
    "def CD_evolution(sk: np.ndarray | list, H1: np.ndarray | csc_matrix | csc_array, H0: np.ndarray | csc_matrix | csc_array, c_ops: list, δt: float,  steps: int, ρ = None, disable_progress_bar = False):\n",
    "    \"\"\"\n",
    "    Evolution of a quantum state under the continuous dissipation encoding as implemented in https://doi.org/10.22331/q-2024-03-20-1291.\n",
    "    Args:\n",
    "        sk (np.ndarray): classical time series encoded in the hamiltonian\n",
    "        H1 (np.ndarray | csc_matrix | csc_array): Encoding term of the hamiltonian.\n",
    "        H0 (np.ndarray | csc_matrix | csc_array): Free Hamiltonian for the system.\n",
    "        c_ops (list): List of collapse operators.\n",
    "        δt (float): Time step for the evolution.\n",
    "        steps (int): Number of time steps to evolve.\n",
    "        ρ (np.ndarray, optional): Initial density matrix. Defaults to None, which initializes to the zero state.\n",
    "        disable_progress_bar (bool, optional): If True, disables the progress bar. Defaults to False.\n",
    "    Returns:\n",
    "        np.ndarray: Time-evolved density matrix at each step.\n",
    "    \"\"\"\n",
    "    if not isinstance(sk, (np.ndarray, list)):\n",
    "        raise TypeError(\"sk must be a numpy array or a list\")\n",
    "    sk = np.asarray(sk, dtype = float)\n",
    "    if not (qs.is_herm(H1) and qs.is_herm(H0)):\n",
    "        raise TypeError(\"H0 and H1 must be Hermitian matrices\")\n",
    "    if not isinstance(c_ops, list):\n",
    "        raise TypeError(\"c_ops must be a list of numpy arrays or csc_matrix\")\n",
    "    if not isinstance(δt, (int, float)):\n",
    "        raise TypeError(\"δt must be an integer or a float\")\n",
    "    if (not isinstance(steps, int)) or steps <= 0 or len(sk) < steps:\n",
    "        raise ValueError(\"Steps must be a positive integer, whose length is less than or equal to the length of sk\")\n",
    "    if not all(isinstance(c, (np.ndarray, sp.sp.csc_matrix, sp.csc_array)) for c in c_ops):\n",
    "        raise TypeError(\"All collapse operators in c_ops must be numpy arrays, csc_matrix, or csc_array\")\n",
    "    \n",
    "    Nq = int(np.log2(H0.shape[0]))\n",
    "    if len(c_ops) != 0:\n",
    "        superd = sp.csc_array(Super_D(c_ops), dtype = complex)\n",
    "    else:\n",
    "        superd = None\n",
    "    if ρ is None:\n",
    "        ρ = qs.zero(dm = True, N = Nq)\n",
    "    ρt = np.zeros((steps, 2**Nq, 2**Nq), dtype = complex)\n",
    "    for i in tqdm(range(steps), disable = disable_progress_bar):\n",
    "        superh = sp.csc_array(qs.Super_H(H0 + (sk[i] + 1)*H1), dtype = complex)\n",
    "        ρt[i] = Lindblad_Propagator(superh, superd, δt, ρ).reshape(2**Nq, 2**Nq)\n",
    "        ρ = ρt[i]\n",
    "\n",
    "    return ρt\n",
    "\n"
   ]
  },
  {
   "cell_type": "code",
   "execution_count": 38,
   "id": "bb8f8c9f",
   "metadata": {},
   "outputs": [
    {
     "ename": "TypeError",
     "evalue": "Input must be a numpy array or a list of arrays.",
     "output_type": "error",
     "traceback": [
      "\u001b[1;31m---------------------------------------------------------------------------\u001b[0m",
      "\u001b[1;31mTypeError\u001b[0m                                 Traceback (most recent call last)",
      "Cell \u001b[1;32mIn[38], line 1\u001b[0m\n\u001b[1;32m----> 1\u001b[0m \u001b[43mCD_evolution\u001b[49m\u001b[43m(\u001b[49m\u001b[43mnp\u001b[49m\u001b[38;5;241;43m.\u001b[39;49m\u001b[43mrandom\u001b[49m\u001b[38;5;241;43m.\u001b[39;49m\u001b[43mrandom\u001b[49m\u001b[43m(\u001b[49m\u001b[38;5;241;43m10\u001b[39;49m\u001b[43m)\u001b[49m\u001b[43m,\u001b[49m\u001b[43m \u001b[49m\u001b[38;5;241;43m3\u001b[39;49m\u001b[43m,\u001b[49m\u001b[43m \u001b[49m\u001b[38;5;241;43m3\u001b[39;49m\u001b[43m,\u001b[49m\u001b[43m \u001b[49m\u001b[43m[\u001b[49m\u001b[43m]\u001b[49m\u001b[43m,\u001b[49m\u001b[43m \u001b[49m\u001b[38;5;241;43m0.1\u001b[39;49m\u001b[43m,\u001b[49m\u001b[43m \u001b[49m\u001b[38;5;241;43m10\u001b[39;49m\u001b[43m)\u001b[49m\n",
      "Cell \u001b[1;32mIn[35], line 48\u001b[0m, in \u001b[0;36mCD_evolution\u001b[1;34m(sk, H1, H0, c_ops, δt, steps, ρ, disable_progress_bar)\u001b[0m\n\u001b[0;32m     46\u001b[0m     \u001b[38;5;28;01mraise\u001b[39;00m \u001b[38;5;167;01mTypeError\u001b[39;00m(\u001b[38;5;124m\"\u001b[39m\u001b[38;5;124msk must be a numpy array or a list\u001b[39m\u001b[38;5;124m\"\u001b[39m)\n\u001b[0;32m     47\u001b[0m sk \u001b[38;5;241m=\u001b[39m np\u001b[38;5;241m.\u001b[39masarray(sk, dtype \u001b[38;5;241m=\u001b[39m \u001b[38;5;28mfloat\u001b[39m)\n\u001b[1;32m---> 48\u001b[0m \u001b[38;5;28;01mif\u001b[39;00m \u001b[38;5;129;01mnot\u001b[39;00m (\u001b[43mqs\u001b[49m\u001b[38;5;241;43m.\u001b[39;49m\u001b[43mis_herm\u001b[49m\u001b[43m(\u001b[49m\u001b[43mH1\u001b[49m\u001b[43m)\u001b[49m \u001b[38;5;129;01mand\u001b[39;00m qs\u001b[38;5;241m.\u001b[39mis_herm(H0)):\n\u001b[0;32m     49\u001b[0m     \u001b[38;5;28;01mraise\u001b[39;00m \u001b[38;5;167;01mTypeError\u001b[39;00m(\u001b[38;5;124m\"\u001b[39m\u001b[38;5;124mH0 and H1 must be Hermitian matrices\u001b[39m\u001b[38;5;124m\"\u001b[39m)\n\u001b[0;32m     50\u001b[0m \u001b[38;5;28;01mif\u001b[39;00m \u001b[38;5;129;01mnot\u001b[39;00m \u001b[38;5;28misinstance\u001b[39m(c_ops, \u001b[38;5;28mlist\u001b[39m):\n",
      "File \u001b[1;32mc:\\Users\\marco\\Desktop\\Università\\PhD\\Palma Projects\\Synchronization\\quantum_stuff\\QuantumStuff\\utils.py:43\u001b[0m, in \u001b[0;36mis_herm\u001b[1;34m(A)\u001b[0m\n\u001b[0;32m     34\u001b[0m \u001b[38;5;250m\u001b[39m\u001b[38;5;124;03m\"\"\"\u001b[39;00m\n\u001b[0;32m     35\u001b[0m \u001b[38;5;124;03mCheck if a matrix is Hermitian.\u001b[39;00m\n\u001b[0;32m     36\u001b[0m \u001b[38;5;124;03mArgs:\u001b[39;00m\n\u001b[1;32m   (...)\u001b[0m\n\u001b[0;32m     39\u001b[0m \u001b[38;5;124;03m    bool: True if the matrix is Hermitian, False otherwise.\u001b[39;00m\n\u001b[0;32m     40\u001b[0m \u001b[38;5;124;03m\"\"\"\u001b[39;00m\n\u001b[0;32m     42\u001b[0m \u001b[38;5;28;01mif\u001b[39;00m \u001b[38;5;129;01mnot\u001b[39;00m \u001b[38;5;28misinstance\u001b[39m(A, (np\u001b[38;5;241m.\u001b[39mndarray,\u001b[38;5;28mlist\u001b[39m)):\n\u001b[1;32m---> 43\u001b[0m     \u001b[38;5;28;01mraise\u001b[39;00m \u001b[38;5;167;01mTypeError\u001b[39;00m(\u001b[38;5;124m\"\u001b[39m\u001b[38;5;124mInput must be a numpy array or a list of arrays.\u001b[39m\u001b[38;5;124m\"\u001b[39m)\n\u001b[0;32m     45\u001b[0m A \u001b[38;5;241m=\u001b[39m np\u001b[38;5;241m.\u001b[39masarray(A, dtype\u001b[38;5;241m=\u001b[39m\u001b[38;5;28mcomplex\u001b[39m)\n\u001b[0;32m     46\u001b[0m \u001b[38;5;28;01mreturn\u001b[39;00m(np\u001b[38;5;241m.\u001b[39mallclose(A, dag(A)))\n",
      "\u001b[1;31mTypeError\u001b[0m: Input must be a numpy array or a list of arrays."
     ]
    }
   ],
   "source": [
    "CD_evolution(np.random.random(10), 3, 3, [], 0.1, 10)"
   ]
  },
  {
   "cell_type": "code",
   "execution_count": null,
   "id": "fb95008c",
   "metadata": {},
   "outputs": [],
   "source": [
    "def mutual_info(state_total: np.ndarray | list, state_A: np.ndarray | list, state_B: np.ndarray | list):\n",
    "    \"\"\"\n",
    "    Calculate the mutual information between two subsystems A and B given a total state.\n",
    "    The mutual information is defined as:\n",
    "    I(A:B) = S(A) + S(B) - S(A:B)\n",
    "\n",
    "    where S(X) is the von Neumann entropy of subsystem X.\n",
    "    Args:\n",
    "        state_total (np.ndarray | list): The total quantum state, can be a density matrix or a ket.\n",
    "        state_A (np.ndarray | list): The quantum state of subsystem A.\n",
    "        state_B (np.ndarray | list): The quantum state of subsystem B.\n",
    "    Returns:\n",
    "        float: The mutual information I(A:B).\n",
    "    \"\"\"\n",
    "    if not is_state\n",
    "    return von_neumann_entropy(state_A) + von_neumann_entropy(state_B) - von_neumann_entropy(state_total)"
   ]
  },
  {
   "cell_type": "code",
   "execution_count": 682,
   "id": "a0dc97f3",
   "metadata": {},
   "outputs": [
    {
     "data": {
      "text/plain": [
       "(3, np.False_)"
      ]
     },
     "execution_count": 682,
     "metadata": {},
     "output_type": "execute_result"
    }
   ],
   "source": [
    "qs.is_state(np.random.random((8,8)))"
   ]
  },
  {
   "cell_type": "code",
   "execution_count": 684,
   "id": "c78306b8",
   "metadata": {},
   "outputs": [],
   "source": [
    "if not( qs.is_state(state)[1] or qs.is_state(np.random.random((8,8)))[1]):\n",
    "    print('diocane')"
   ]
  },
  {
   "cell_type": "code",
   "execution_count": null,
   "id": "bc34f8cf",
   "metadata": {},
   "outputs": [
    {
     "data": {
      "text/plain": [
       "array([2.37654684])"
      ]
     },
     "execution_count": 667,
     "metadata": {},
     "output_type": "execute_result"
    }
   ],
   "source": [
    "import warnings\n",
    "\n",
    "import warnings\n",
    "\n",
    "warnings.filterwarnings(\n",
    "    action='ignore',\n",
    "    category=RuntimeWarning,\n",
    "    message=r'.*invalid value encountered in log2.*'\n",
    ")\n",
    "\n",
    "def von_neumann_entropy(state: np.ndarray):\n",
    "    \"\"\"\n",
    "    Calculate the von Neumann entropy of a quantum state.\n",
    "    The von Neumann entropy is defined as:\n",
    "        S(ρ) = -Tr(ρ log2(ρ))\n",
    "\n",
    "    where ρ is the density matrix of the quantum state.\n",
    "    Args:\n",
    "        state (np.ndarray): The quantum state, can be a density matrix or a pure state.\n",
    "        ax (int): Axis along which to compute the entropy. Default is -1.\n",
    "    Returns:\n",
    "        np.ndarray: The von Neumann entropy of the state.\n",
    "    \"\"\"\n",
    "\n",
    "    check = qs.is_state(state)\n",
    "    if not check[1]:\n",
    "        raise Exception(\"Input is not a valid quantum state\")\n",
    "    if check[0] != 3:\n",
    "        state = qs.ket_to_dm(state)\n",
    "\n",
    "    state = np.asarray(state, dtype = complex)\n",
    "\n",
    "    eigs = np.linalg.eigvalsh(state)\n",
    "    entropy = np.sum(-eigs * np.log2(eigs), axis = -1)\n",
    "    if np.shape(entropy) == ():\n",
    "        entropy = np.array([entropy])\n",
    "    entropy[np.where(np.isnan(entropy))] = 0\n",
    "    return entropy\n",
    "\n",
    "state = qs.random_qubit(3, pure = False, dm = True) \n",
    "von_neumann_entropy(state)"
   ]
  },
  {
   "cell_type": "code",
   "execution_count": 558,
   "id": "d70c8a42",
   "metadata": {},
   "outputs": [
    {
     "data": {
      "text/plain": [
       "array([ True,  True,  True,  True,  True,  True,  True,  True,  True,\n",
       "        True])"
      ]
     },
     "execution_count": 558,
     "metadata": {},
     "output_type": "execute_result"
    }
   ],
   "source": [
    "state = [qs.random_qubit(3, pure = True, dm = True) for i in range(10)]\n",
    "\n",
    "np.any(np.isclose(np.linalg.eigvalsh(state), 1), axis = -1)"
   ]
  },
  {
   "cell_type": "code",
   "execution_count": 228,
   "id": "c2eca160",
   "metadata": {},
   "outputs": [],
   "source": [
    "H_test = np.sum([[J[i,j]*np.dot(z[i],z[j] )for i in range(3)] for j in range(3)], axis = (0,1))"
   ]
  },
  {
   "cell_type": "code",
   "execution_count": 229,
   "id": "f98b9d6b",
   "metadata": {},
   "outputs": [
    {
     "data": {
      "text/plain": [
       "True"
      ]
     },
     "execution_count": 229,
     "metadata": {},
     "output_type": "execute_result"
    }
   ],
   "source": [
    "np.allclose(H,H_test)"
   ]
  },
  {
   "cell_type": "code",
   "execution_count": 11,
   "id": "8f2cd067",
   "metadata": {},
   "outputs": [
    {
     "data": {
      "text/plain": [
       "(3, True)"
      ]
     },
     "execution_count": 11,
     "metadata": {},
     "output_type": "execute_result"
    }
   ],
   "source": [
    "state = [qs.random_qubit(4, pure = True, dm = True) for i in range(10)]\n",
    "qs.is_state(state)"
   ]
  },
  {
   "cell_type": "code",
   "execution_count": 5,
   "id": "877a7d94",
   "metadata": {},
   "outputs": [
    {
     "name": "stderr",
     "output_type": "stream",
     "text": [
      "100%|██████████| 5/5 [00:00<00:00, 714.09it/s]\n"
     ]
    },
    {
     "data": {
      "text/plain": [
       "array([[[0.88563915-3.69494902e-26j, 0.01432705+1.46380481e-01j],\n",
       "        [0.01432705-1.46380481e-01j, 0.11436085+3.73647723e-26j]],\n",
       "\n",
       "       [[0.75999731-3.00523769e-26j, 0.04775592+2.40364020e-01j],\n",
       "        [0.04775592-2.40364020e-01j, 0.24000269+3.38090441e-26j]],\n",
       "\n",
       "       [[0.63323971-1.42454260e-19j, 0.08810637+2.90456364e-01j],\n",
       "        [0.08810637-2.90456364e-01j, 0.36676029+1.46690436e-19j]],\n",
       "\n",
       "       [[0.52064962-7.48714072e-19j, 0.12576854+2.93737455e-01j],\n",
       "        [0.12576854-2.93737455e-01j, 0.47935038+7.60588079e-19j]],\n",
       "\n",
       "       [[0.42013505-1.86174175e-18j, 0.15307276+2.53030154e-01j],\n",
       "        [0.15307276-2.53030154e-01j, 0.57986495+1.94392272e-18j]]])"
      ]
     },
     "execution_count": 5,
     "metadata": {},
     "output_type": "execute_result"
    }
   ],
   "source": [
    "qs.CD_evolution(np.random.random(10),qs.sigmax(), qs.sigmaz(), [qs.sigmay()], 0.1,  5, ρ = None, disable_progress_bar = False)"
   ]
  },
  {
   "cell_type": "code",
   "execution_count": 79,
   "id": "c527e4cb",
   "metadata": {},
   "outputs": [
    {
     "data": {
      "text/plain": [
       "(10, 3, 4)"
      ]
     },
     "execution_count": 79,
     "metadata": {},
     "output_type": "execute_result"
    }
   ],
   "source": [
    "state = qs.random_qubit(4, pure = True, dm = True)\n",
    "meas = measure([state]*10, [qs.sigmax()]*3)\n",
    "measure2 = qs.measure(state, [np.kron(qs.sigmaz(), qs.sigmaz())]*5)\n",
    "meas.shape"
   ]
  },
  {
   "cell_type": "code",
   "execution_count": 11,
   "id": "ccd84d1f",
   "metadata": {},
   "outputs": [
    {
     "data": {
      "text/plain": [
       "(2, 3, 4, 4)"
      ]
     },
     "execution_count": 11,
     "metadata": {},
     "output_type": "execute_result"
    }
   ],
   "source": [
    "a = np.random.random((2,4,4))\n",
    "b = np.random.random((3,4,4))\n",
    "(a[:, np.newaxis]@b[np.newaxis,:]).shape"
   ]
  },
  {
   "cell_type": "code",
   "execution_count": 3,
   "id": "50f4e37d",
   "metadata": {},
   "outputs": [
    {
     "name": "stderr",
     "output_type": "stream",
     "text": [
      "100%|██████████| 30/30 [00:01<00:00, 22.93it/s]\n"
     ]
    }
   ],
   "source": [
    "from tqdm import tqdm\n",
    "N = 5\n",
    "Js = 1\n",
    "J = qso.random_coupling(Js, N)\n",
    "X = qs.local_operators(qs.sigmax(), N)\n",
    "Z = qs.local_operators(qs.sigmaz(), N)\n",
    "h = 0.1\n",
    "H0 = np.sum(qso.interaction(X, J) + h*Z ,0)\n",
    "H1 = h*np.sum(X,0)\n",
    "stato = qs.random_qubit(N, pure = True, dm = True)\n",
    "ρ = stato\n",
    "σm = qs.local_operators(qs.sigmam(), N)\n",
    "\n",
    "states = []\n",
    "dt = 10/370\n",
    "ρt = np.zeros((370,2**N,2**N), dtype = complex)\n",
    "    \n",
    "sh = sp.csc_matrix(qso.Super_H(H0), dtype = complex)\n",
    "sd = sp.csc_matrix(qso.Super_D(σm), dtype = complex)\n",
    "\n",
    "def Lindblad_Propagator(SH: np.ndarray | sp.csc_matrix, SD: np.ndarray | sp.csc_matrix, dt: float, ρ: np.ndarray):\n",
    "    \"\"\"\n",
    "    Lindblad propagator for Lindblad equation\n",
    "    :L: super operator\n",
    "    :dt: time step\n",
    "    :ρ: density matrix\n",
    "    :return: propagated density matrix\n",
    "    \"\"\"\n",
    "    L = SH + SD\n",
    "    is_sparse = type(L) == sp.csc_matrix or sp.csc_array\n",
    "    if ρ.ndim != 1:\n",
    "        ρ = ρ.flatten()\n",
    "    if is_sparse:\n",
    "        return expm_multiply(L, ρ, start = 0 , stop = dt, num = 2)[-1]\n",
    "    else:\n",
    "        return expm(L * dt) @ ρ\n",
    "    \n",
    "def CD_evolution(sk: np.ndarray, H1: np.ndarray | sp.csc_matrix | sp.csc_array, H0: np.ndarray | sp.csc_matrix | sp.csc_array, c_ops: list, δt: float,  steps: int, ρ = None):\n",
    "    #Evolution\n",
    "    Nq = int(np.log2(H0.shape[0]))\n",
    "    superd = sp.csc_matrix(qso.Super_D(c_ops), dtype = complex)\n",
    "    if ρ is None:\n",
    "        ρ = qso.zero(dm = True, N = Nq)\n",
    "    ρt = np.zeros((steps, 2**Nq, 2**Nq), dtype = complex)\n",
    "    for i in tqdm(range(steps)):\n",
    "        superh = sp.csc_matrix(qso.Super_H(H0 + (sk[i] + 1)*H1), dtype = complex)\n",
    "        ρt[i] = Lindblad_Propagator(superh, superd, δt, ρ).reshape(2**Nq, 2**Nq)\n",
    "        ρ = ρt[i]\n",
    "\n",
    "    return ρt\n",
    "sk = np.random.random(30)\n",
    "ρt = CD_evolution(sk, H1, H0, σm, dt, 30, stato)\n",
    "states = (qs.measure(ρt, qs.sigmaz()))"
   ]
  },
  {
   "cell_type": "code",
   "execution_count": 37,
   "id": "9111aa0e",
   "metadata": {},
   "outputs": [
    {
     "name": "stderr",
     "output_type": "stream",
     "text": [
      "100%|██████████| 10/10 [00:00<00:00, 1575.21it/s]"
     ]
    },
    {
     "name": "stdout",
     "output_type": "stream",
     "text": [
      "0\n",
      "1\n",
      "2\n",
      "3\n",
      "4\n",
      "5\n",
      "6\n",
      "7\n",
      "8\n",
      "9\n"
     ]
    },
    {
     "name": "stderr",
     "output_type": "stream",
     "text": [
      "\n"
     ]
    }
   ],
   "source": [
    "for i in tqdm(range(10),disable=False):\n",
    "    print(i)\n"
   ]
  },
  {
   "cell_type": "code",
   "execution_count": 35,
   "id": "13d38af0",
   "metadata": {},
   "outputs": [
    {
     "data": {
      "text/plain": [
       "(3, True)"
      ]
     },
     "execution_count": 35,
     "metadata": {},
     "output_type": "execute_result"
    }
   ],
   "source": [
    "state = qs.random_qubit(4, pure = True, dm = False)\n",
    "qs.is_state(evolve_unitary(U, state))"
   ]
  },
  {
   "cell_type": "code",
   "execution_count": 13,
   "id": "30cc95ae",
   "metadata": {},
   "outputs": [
    {
     "data": {
      "text/plain": [
       "(3, True)"
      ]
     },
     "execution_count": 13,
     "metadata": {},
     "output_type": "execute_result"
    }
   ],
   "source": [
    "U = qs.haar_random_unitary(4)\n",
    "state = np.array([qs.random_qubit(4, pure = True, dm = True) for i in range(5)])\n",
    "qs.is_state(U@state@qs.dag(U))"
   ]
  },
  {
   "cell_type": "code",
   "execution_count": null,
   "id": "2cb1629d",
   "metadata": {},
   "outputs": [
    {
     "data": {
      "text/plain": [
       "(80, 80)"
      ]
     },
     "execution_count": 20,
     "metadata": {},
     "output_type": "execute_result"
    }
   ],
   "source": [
    "state = np.array([qs.random_qubit(4, pure = True, dm = False) for i in range(5)])\n",
    "np.outer(state, qs.dag(state))"
   ]
  },
  {
   "cell_type": "code",
   "execution_count": 22,
   "id": "749ac59e",
   "metadata": {},
   "outputs": [
    {
     "name": "stdout",
     "output_type": "stream",
     "text": [
      "porcodio\n"
     ]
    }
   ],
   "source": [
    "rho = np.array(qs.random_qubit(4, pure = True, dm = False) )\n",
    "if rho.ndim == 1 or (rho.shape[0] != rho.shape[1] and rho.ndim == 2):\n",
    "    print('porcodio')\n",
    "    rho = qs.ket_to_dm(rho)\n"
   ]
  },
  {
   "cell_type": "code",
   "execution_count": 3,
   "id": "78207c77",
   "metadata": {},
   "outputs": [],
   "source": [
    "state_ivp = qs.evolve_lindblad(stato, H, np.arange(0, 10, 10/370), c_ops = σm)"
   ]
  },
  {
   "cell_type": "code",
   "execution_count": null,
   "id": "bd507f5f",
   "metadata": {},
   "outputs": [
    {
     "data": {
      "text/plain": [
       "array([0.])"
      ]
     },
     "execution_count": 40,
     "metadata": {},
     "output_type": "execute_result"
    }
   ],
   "source": [
    "[0,dt]"
   ]
  },
  {
   "cell_type": "code",
   "execution_count": 61,
   "id": "b817a239",
   "metadata": {},
   "outputs": [
    {
     "name": "stderr",
     "output_type": "stream",
     "text": [
      "100%|██████████| 30/30 [01:00<00:00,  2.01s/it]\n"
     ]
    }
   ],
   "source": [
    "c_ops = [qt.Qobj(c, dims = [[2 for i in range(N)] for j in range(2)]) for c in σm]\n",
    "eops = [qt.Qobj(e, dims = [[2 for i in range(N)] for j in range(2)]) for e in (Z)]\n",
    "H0 = qt.Qobj(H0, dims = [[2 for i in range(N)] for j in range(2)])\n",
    "H1 = qt.Qobj(H1, dims = [[2 for i in range(N)] for j in range(2)])\n",
    "\n",
    "stato = qt.Qobj(stato, dims = [[2 for i in range(N)] for j in range(2)])\n",
    "state_qutip = np.zeros((30,5), dtype = complex)\n",
    "for k in tqdm(range(30)):\n",
    "    state_update = qt.mesolve(H0 + (1+sk[k])*H1, stato, [0,dt], c_ops = c_ops, e_ops = eops, options = {'store_final_state': True})\n",
    "    stato = state_update.final_state\n",
    "    state_qutip[k] = np.array(state_update.expect)[:,-1]"
   ]
  },
  {
   "cell_type": "code",
   "execution_count": 57,
   "id": "2e528233",
   "metadata": {},
   "outputs": [
    {
     "data": {
      "text/plain": [
       "array([-0.19260371, -0.20577622,  0.10719096,  0.01785502, -0.05879561])"
      ]
     },
     "execution_count": 57,
     "metadata": {},
     "output_type": "execute_result"
    }
   ],
   "source": [
    "np.array(state_update.expect)[:,-1]"
   ]
  },
  {
   "cell_type": "code",
   "execution_count": 14,
   "id": "62d6f9d7",
   "metadata": {},
   "outputs": [],
   "source": [
    "m_qtp = state_qutip.expect"
   ]
  },
  {
   "cell_type": "code",
   "execution_count": 6,
   "id": "49e0320a",
   "metadata": {},
   "outputs": [],
   "source": [
    "state_ivp = state_ivp.T.reshape(370, 2**5, 2**5)\n"
   ]
  },
  {
   "cell_type": "code",
   "execution_count": 35,
   "id": "8c7f9f11",
   "metadata": {},
   "outputs": [
    {
     "data": {
      "text/plain": [
       "(370, 32, 32)"
      ]
     },
     "execution_count": 35,
     "metadata": {},
     "output_type": "execute_result"
    }
   ],
   "source": [
    "state_qutip.shape"
   ]
  },
  {
   "cell_type": "code",
   "execution_count": 62,
   "id": "aa6d6e69",
   "metadata": {},
   "outputs": [],
   "source": [
    "# m_ivp = qs.measure(state_ivp, qs.sigmax())\n",
    "m_qso = qs.measure(ρt, qs.sigmaz())\n",
    "# m_qutip = qs.measure(state_qutip, qs.sigmaz())\n"
   ]
  },
  {
   "cell_type": "code",
   "execution_count": 64,
   "id": "b865abd5",
   "metadata": {},
   "outputs": [
    {
     "data": {
      "text/plain": [
       "[<matplotlib.lines.Line2D at 0x1a305e73a10>]"
      ]
     },
     "execution_count": 64,
     "metadata": {},
     "output_type": "execute_result"
    },
    {
     "data": {
      "image/png": "[encoded data removed]",
      "text/plain": [
       "<Figure size 640x480 with 1 Axes>"
      ]
     },
     "metadata": {},
     "output_type": "display_data"
    }
   ],
   "source": [
    "import matplotlib.pyplot as plt\n",
    "\n",
    "# plt.plot(m_ivp[:,0,0],'.')\n",
    "plt.plot(states[:,0,1])\n",
    "# plt.plot(m_qutip[0,0,:,0],'.')\n",
    "plt.plot(np.array(state_qutip)[:,1],'--')"
   ]
  },
  {
   "cell_type": "code",
   "execution_count": 36,
   "id": "e3dc61ee",
   "metadata": {},
   "outputs": [
    {
     "data": {
      "text/plain": [
       "(370, 1, 5)"
      ]
     },
     "execution_count": 36,
     "metadata": {},
     "output_type": "execute_result"
    }
   ],
   "source": [
    "np.array(m_qso).shape"
   ]
  }
 ],
 "metadata": {
  "kernelspec": {
   "display_name": "quantum_env",
   "language": "python",
   "name": "python3"
  },
  "language_info": {
   "codemirror_mode": {
    "name": "ipython",
    "version": 3
   },
   "file_extension": ".py",
   "mimetype": "text/x-python",
   "name": "python",
   "nbconvert_exporter": "python",
   "pygments_lexer": "ipython3",
   "version": "3.12.8"
  }
 },
 "nbformat": 4,
 "nbformat_minor": 5
}
